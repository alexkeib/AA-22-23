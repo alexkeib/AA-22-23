{
 "cells": [
  {
   "cell_type": "markdown",
   "id": "95c52933-bdd0-4051-9757-b53a78c4ad32",
   "metadata": {},
   "source": [
    "# 1. Data Collection and preparation"
   ]
  },
  {
   "cell_type": "markdown",
   "id": "3158fdd1-1230-48d3-875f-32b741adeac0",
   "metadata": {},
   "source": [
    "## 1.1 Data import and cleaning"
   ]
  },
  {
   "cell_type": "markdown",
   "id": "06ece158-9920-4f8d-8bea-eb8bb992a1d4",
   "metadata": {},
   "source": [
    "### 1.1.1 Import libraries"
   ]
  },
  {
   "cell_type": "code",
   "execution_count": 1,
   "id": "215a93ab-f198-4fc9-9fd2-bc7afc6918b3",
   "metadata": {},
   "outputs": [],
   "source": [
    "import numpy as np\n",
    "import pandas as pd\n",
    "from datetime import datetime\n",
    "import matplotlib.pyplot as plt\n",
    "import difflib"
   ]
  },
  {
   "cell_type": "markdown",
   "id": "baa8a545-95db-4c73-ad0a-2be569dd3b93",
   "metadata": {},
   "source": [
    "### 1.1.2 Import data"
   ]
  },
  {
   "cell_type": "code",
   "execution_count": 2,
   "id": "920aa640",
   "metadata": {},
   "outputs": [],
   "source": [
    "input_path = 'input/'"
   ]
  },
  {
   "cell_type": "code",
   "execution_count": 3,
   "id": "1aeb0db2-249b-489c-84e3-c5c68d249b64",
   "metadata": {},
   "outputs": [],
   "source": [
    "trip_data = pd.read_csv(input_path+'boston_2018.csv',sep=',')"
   ]
  },
  {
   "cell_type": "code",
   "execution_count": 4,
   "id": "12288225-fa59-472d-9786-c82e1753c44f",
   "metadata": {},
   "outputs": [],
   "source": [
    "weather_data = pd.read_csv(input_path+'weather_hourly_boston.csv', sep = ',')"
   ]
  },
  {
   "cell_type": "code",
   "execution_count": 5,
   "id": "41250b0f-b15c-4935-862a-cd6852e5c8a7",
   "metadata": {},
   "outputs": [],
   "source": [
    "station_data = pd.read_csv(input_path+'A&A Station Info.csv', sep = ',')"
   ]
  },
  {
   "cell_type": "markdown",
   "id": "fd5e8e39",
   "metadata": {},
   "source": [
    "### 1.1.3 Set output path"
   ]
  },
  {
   "cell_type": "code",
   "execution_count": 6,
   "id": "a07e0cc5",
   "metadata": {},
   "outputs": [],
   "source": [
    "output_path = 'data/'"
   ]
  },
  {
   "cell_type": "markdown",
   "id": "c9eeea27-d029-4bad-8344-33bd93729b5b",
   "metadata": {},
   "source": [
    "### 1.2 Bike trips data"
   ]
  },
  {
   "cell_type": "code",
   "execution_count": 7,
   "id": "7be77265-470e-4bf6-8e2a-d4cffce6617e",
   "metadata": {},
   "outputs": [
    {
     "data": {
      "text/html": [
       "<div>\n",
       "<style scoped>\n",
       "    .dataframe tbody tr th:only-of-type {\n",
       "        vertical-align: middle;\n",
       "    }\n",
       "\n",
       "    .dataframe tbody tr th {\n",
       "        vertical-align: top;\n",
       "    }\n",
       "\n",
       "    .dataframe thead th {\n",
       "        text-align: right;\n",
       "    }\n",
       "</style>\n",
       "<table border=\"1\" class=\"dataframe\">\n",
       "  <thead>\n",
       "    <tr style=\"text-align: right;\">\n",
       "      <th></th>\n",
       "      <th>start_time</th>\n",
       "      <th>end_time</th>\n",
       "      <th>start_station_id</th>\n",
       "      <th>end_station_id</th>\n",
       "      <th>start_station_name</th>\n",
       "      <th>end_station_name</th>\n",
       "      <th>bike_id</th>\n",
       "      <th>user_type</th>\n",
       "    </tr>\n",
       "  </thead>\n",
       "  <tbody>\n",
       "    <tr>\n",
       "      <th>0</th>\n",
       "      <td>2018-01-01 00:16:33</td>\n",
       "      <td>2018-01-01 00:23:01</td>\n",
       "      <td>178</td>\n",
       "      <td>107</td>\n",
       "      <td>MIT Pacific St at Purrington St</td>\n",
       "      <td>Ames St at Main St</td>\n",
       "      <td>643</td>\n",
       "      <td>Subscriber</td>\n",
       "    </tr>\n",
       "    <tr>\n",
       "      <th>1</th>\n",
       "      <td>2018-01-01 00:42:00</td>\n",
       "      <td>2018-01-01 00:46:25</td>\n",
       "      <td>78</td>\n",
       "      <td>225</td>\n",
       "      <td>Union Square - Somerville</td>\n",
       "      <td>Cambridge Dept. of Public Works -147 Hampshire...</td>\n",
       "      <td>1581</td>\n",
       "      <td>Subscriber</td>\n",
       "    </tr>\n",
       "    <tr>\n",
       "      <th>2</th>\n",
       "      <td>2018-01-01 00:42:44</td>\n",
       "      <td>2018-01-01 01:02:11</td>\n",
       "      <td>16</td>\n",
       "      <td>76</td>\n",
       "      <td>Back Bay T Stop - Dartmouth St at Stuart St</td>\n",
       "      <td>Central Sq Post Office / Cambridge City Hall a...</td>\n",
       "      <td>173</td>\n",
       "      <td>Subscriber</td>\n",
       "    </tr>\n",
       "    <tr>\n",
       "      <th>3</th>\n",
       "      <td>2018-01-01 00:56:50</td>\n",
       "      <td>2018-01-01 01:11:06</td>\n",
       "      <td>69</td>\n",
       "      <td>177</td>\n",
       "      <td>Coolidge Corner - Beacon St @ Centre St</td>\n",
       "      <td>University Park</td>\n",
       "      <td>1772</td>\n",
       "      <td>Subscriber</td>\n",
       "    </tr>\n",
       "    <tr>\n",
       "      <th>4</th>\n",
       "      <td>2018-01-01 01:07:54</td>\n",
       "      <td>2018-01-01 01:16:02</td>\n",
       "      <td>4</td>\n",
       "      <td>46</td>\n",
       "      <td>Tremont St at E Berkeley St</td>\n",
       "      <td>Christian Science Plaza - Massachusetts Ave at...</td>\n",
       "      <td>1183</td>\n",
       "      <td>Subscriber</td>\n",
       "    </tr>\n",
       "    <tr>\n",
       "      <th>...</th>\n",
       "      <td>...</td>\n",
       "      <td>...</td>\n",
       "      <td>...</td>\n",
       "      <td>...</td>\n",
       "      <td>...</td>\n",
       "      <td>...</td>\n",
       "      <td>...</td>\n",
       "      <td>...</td>\n",
       "    </tr>\n",
       "    <tr>\n",
       "      <th>1767801</th>\n",
       "      <td>2018-12-31 23:48:46.7060</td>\n",
       "      <td>2018-12-31 23:56:55.6290</td>\n",
       "      <td>19</td>\n",
       "      <td>179</td>\n",
       "      <td>Park Dr at Buswell St</td>\n",
       "      <td>MIT Vassar St</td>\n",
       "      <td>4440</td>\n",
       "      <td>Subscriber</td>\n",
       "    </tr>\n",
       "    <tr>\n",
       "      <th>1767802</th>\n",
       "      <td>2018-12-31 23:48:58.9710</td>\n",
       "      <td>2019-01-01 03:13:49.5120</td>\n",
       "      <td>40</td>\n",
       "      <td>40</td>\n",
       "      <td>Lewis Wharf at Atlantic Ave</td>\n",
       "      <td>Lewis Wharf at Atlantic Ave</td>\n",
       "      <td>2117</td>\n",
       "      <td>Subscriber</td>\n",
       "    </tr>\n",
       "    <tr>\n",
       "      <th>1767803</th>\n",
       "      <td>2018-12-31 23:51:19.8590</td>\n",
       "      <td>2019-01-01 00:17:15.7410</td>\n",
       "      <td>68</td>\n",
       "      <td>68</td>\n",
       "      <td>Central Square at Mass Ave / Essex St</td>\n",
       "      <td>Central Square at Mass Ave / Essex St</td>\n",
       "      <td>3725</td>\n",
       "      <td>Subscriber</td>\n",
       "    </tr>\n",
       "    <tr>\n",
       "      <th>1767804</th>\n",
       "      <td>2018-12-31 23:54:16.7530</td>\n",
       "      <td>2018-12-31 23:57:17.9650</td>\n",
       "      <td>352</td>\n",
       "      <td>36</td>\n",
       "      <td>Ring Rd</td>\n",
       "      <td>Copley Square - Dartmouth St at Boylston St</td>\n",
       "      <td>3605</td>\n",
       "      <td>Customer</td>\n",
       "    </tr>\n",
       "    <tr>\n",
       "      <th>1767805</th>\n",
       "      <td>2018-12-31 23:54:38.8850</td>\n",
       "      <td>2018-12-31 23:59:30.7180</td>\n",
       "      <td>352</td>\n",
       "      <td>36</td>\n",
       "      <td>Ring Rd</td>\n",
       "      <td>Copley Square - Dartmouth St at Boylston St</td>\n",
       "      <td>1372</td>\n",
       "      <td>Customer</td>\n",
       "    </tr>\n",
       "  </tbody>\n",
       "</table>\n",
       "<p>1767806 rows × 8 columns</p>\n",
       "</div>"
      ],
      "text/plain": [
       "                       start_time                  end_time  start_station_id  \\\n",
       "0             2018-01-01 00:16:33       2018-01-01 00:23:01               178   \n",
       "1             2018-01-01 00:42:00       2018-01-01 00:46:25                78   \n",
       "2             2018-01-01 00:42:44       2018-01-01 01:02:11                16   \n",
       "3             2018-01-01 00:56:50       2018-01-01 01:11:06                69   \n",
       "4             2018-01-01 01:07:54       2018-01-01 01:16:02                 4   \n",
       "...                           ...                       ...               ...   \n",
       "1767801  2018-12-31 23:48:46.7060  2018-12-31 23:56:55.6290                19   \n",
       "1767802  2018-12-31 23:48:58.9710  2019-01-01 03:13:49.5120                40   \n",
       "1767803  2018-12-31 23:51:19.8590  2019-01-01 00:17:15.7410                68   \n",
       "1767804  2018-12-31 23:54:16.7530  2018-12-31 23:57:17.9650               352   \n",
       "1767805  2018-12-31 23:54:38.8850  2018-12-31 23:59:30.7180               352   \n",
       "\n",
       "         end_station_id                           start_station_name  \\\n",
       "0                   107              MIT Pacific St at Purrington St   \n",
       "1                   225                    Union Square - Somerville   \n",
       "2                    76  Back Bay T Stop - Dartmouth St at Stuart St   \n",
       "3                   177      Coolidge Corner - Beacon St @ Centre St   \n",
       "4                    46                  Tremont St at E Berkeley St   \n",
       "...                 ...                                          ...   \n",
       "1767801             179                        Park Dr at Buswell St   \n",
       "1767802              40                  Lewis Wharf at Atlantic Ave   \n",
       "1767803              68        Central Square at Mass Ave / Essex St   \n",
       "1767804              36                                      Ring Rd   \n",
       "1767805              36                                      Ring Rd   \n",
       "\n",
       "                                          end_station_name  bike_id  \\\n",
       "0                                       Ames St at Main St      643   \n",
       "1        Cambridge Dept. of Public Works -147 Hampshire...     1581   \n",
       "2        Central Sq Post Office / Cambridge City Hall a...      173   \n",
       "3                                          University Park     1772   \n",
       "4        Christian Science Plaza - Massachusetts Ave at...     1183   \n",
       "...                                                    ...      ...   \n",
       "1767801                                      MIT Vassar St     4440   \n",
       "1767802                        Lewis Wharf at Atlantic Ave     2117   \n",
       "1767803              Central Square at Mass Ave / Essex St     3725   \n",
       "1767804        Copley Square - Dartmouth St at Boylston St     3605   \n",
       "1767805        Copley Square - Dartmouth St at Boylston St     1372   \n",
       "\n",
       "          user_type  \n",
       "0        Subscriber  \n",
       "1        Subscriber  \n",
       "2        Subscriber  \n",
       "3        Subscriber  \n",
       "4        Subscriber  \n",
       "...             ...  \n",
       "1767801  Subscriber  \n",
       "1767802  Subscriber  \n",
       "1767803  Subscriber  \n",
       "1767804    Customer  \n",
       "1767805    Customer  \n",
       "\n",
       "[1767806 rows x 8 columns]"
      ]
     },
     "execution_count": 7,
     "metadata": {},
     "output_type": "execute_result"
    }
   ],
   "source": [
    "trip_data"
   ]
  },
  {
   "cell_type": "markdown",
   "id": "5cb45cab-06fb-40a7-8c05-c45e5e0f54ac",
   "metadata": {},
   "source": [
    "#### 1.2.1 Overview of the data"
   ]
  },
  {
   "cell_type": "code",
   "execution_count": 8,
   "id": "02dce452-c64b-44f3-8211-70556799edc1",
   "metadata": {},
   "outputs": [
    {
     "name": "stdout",
     "output_type": "stream",
     "text": [
      "<class 'pandas.core.frame.DataFrame'>\n",
      "RangeIndex: 1767806 entries, 0 to 1767805\n",
      "Data columns (total 8 columns):\n",
      " #   Column              Dtype \n",
      "---  ------              ----- \n",
      " 0   start_time          object\n",
      " 1   end_time            object\n",
      " 2   start_station_id    int64 \n",
      " 3   end_station_id      int64 \n",
      " 4   start_station_name  object\n",
      " 5   end_station_name    object\n",
      " 6   bike_id             int64 \n",
      " 7   user_type           object\n",
      "dtypes: int64(3), object(5)\n",
      "memory usage: 107.9+ MB\n"
     ]
    }
   ],
   "source": [
    "trip_data.info()"
   ]
  },
  {
   "cell_type": "code",
   "execution_count": 9,
   "id": "816ac56f-64d6-4897-9c54-90a17873953b",
   "metadata": {},
   "outputs": [
    {
     "name": "stdout",
     "output_type": "stream",
     "text": [
      "Start times range from 2018-01-01 00:16:33 to 2018-12-31 23:54:38.8850\n",
      "End times range from 2018-01-01 00:23:01 to 2019-01-07 20:05:15.5850\n"
     ]
    }
   ],
   "source": [
    "print('Start times range from %s to %s' % (trip_data['start_time'].min(), trip_data['start_time'].max()))\n",
    "print('End times range from %s to %s' % (trip_data['end_time'].min(), trip_data['end_time'].max()))"
   ]
  },
  {
   "cell_type": "code",
   "execution_count": 10,
   "id": "f02dfa3c-54f3-4129-a0d5-ca5494e770d8",
   "metadata": {},
   "outputs": [
    {
     "name": "stdout",
     "output_type": "stream",
     "text": [
      "Station IDs range from 1 to 378\n",
      "Total # of station IDs: 317 \n"
     ]
    }
   ],
   "source": [
    "station_ids = trip_data[['start_station_id','end_station_id']].values\n",
    "\n",
    "print('Station IDs range from %s to %s' %(np.unique(station_ids).min(), np.unique(station_ids).max()))\n",
    "print('Total # of station IDs: %s ' % (len(np.unique(station_ids))))"
   ]
  },
  {
   "cell_type": "code",
   "execution_count": 11,
   "id": "2a8e3017",
   "metadata": {},
   "outputs": [
    {
     "data": {
      "text/html": [
       "<div>\n",
       "<style scoped>\n",
       "    .dataframe tbody tr th:only-of-type {\n",
       "        vertical-align: middle;\n",
       "    }\n",
       "\n",
       "    .dataframe tbody tr th {\n",
       "        vertical-align: top;\n",
       "    }\n",
       "\n",
       "    .dataframe thead th {\n",
       "        text-align: right;\n",
       "    }\n",
       "</style>\n",
       "<table border=\"1\" class=\"dataframe\">\n",
       "  <thead>\n",
       "    <tr style=\"text-align: right;\">\n",
       "      <th></th>\n",
       "      <th>start_station_name</th>\n",
       "    </tr>\n",
       "    <tr>\n",
       "      <th>start_station_id</th>\n",
       "      <th></th>\n",
       "    </tr>\n",
       "  </thead>\n",
       "  <tbody>\n",
       "    <tr>\n",
       "      <th>1</th>\n",
       "      <td>[18 Dorrance Warehouse]</td>\n",
       "    </tr>\n",
       "    <tr>\n",
       "      <th>3</th>\n",
       "      <td>[Colleges of the Fenway - Fenway at Avenue Lou...</td>\n",
       "    </tr>\n",
       "    <tr>\n",
       "      <th>4</th>\n",
       "      <td>[Tremont St at E Berkeley St]</td>\n",
       "    </tr>\n",
       "    <tr>\n",
       "      <th>5</th>\n",
       "      <td>[Northeastern University - North Parking Lot]</td>\n",
       "    </tr>\n",
       "    <tr>\n",
       "      <th>6</th>\n",
       "      <td>[Cambridge St at Joy St]</td>\n",
       "    </tr>\n",
       "    <tr>\n",
       "      <th>...</th>\n",
       "      <td>...</td>\n",
       "    </tr>\n",
       "    <tr>\n",
       "      <th>373</th>\n",
       "      <td>[Belgrade Ave at Walworth St]</td>\n",
       "    </tr>\n",
       "    <tr>\n",
       "      <th>374</th>\n",
       "      <td>[Tremont St at Hamilton Place]</td>\n",
       "    </tr>\n",
       "    <tr>\n",
       "      <th>376</th>\n",
       "      <td>[Honan Library]</td>\n",
       "    </tr>\n",
       "    <tr>\n",
       "      <th>377</th>\n",
       "      <td>[Perry Park]</td>\n",
       "    </tr>\n",
       "    <tr>\n",
       "      <th>378</th>\n",
       "      <td>[191 Beacon St]</td>\n",
       "    </tr>\n",
       "  </tbody>\n",
       "</table>\n",
       "<p>315 rows × 1 columns</p>\n",
       "</div>"
      ],
      "text/plain": [
       "                                                 start_station_name\n",
       "start_station_id                                                   \n",
       "1                                           [18 Dorrance Warehouse]\n",
       "3                 [Colleges of the Fenway - Fenway at Avenue Lou...\n",
       "4                                     [Tremont St at E Berkeley St]\n",
       "5                     [Northeastern University - North Parking Lot]\n",
       "6                                          [Cambridge St at Joy St]\n",
       "...                                                             ...\n",
       "373                                   [Belgrade Ave at Walworth St]\n",
       "374                                  [Tremont St at Hamilton Place]\n",
       "376                                                 [Honan Library]\n",
       "377                                                    [Perry Park]\n",
       "378                                                 [191 Beacon St]\n",
       "\n",
       "[315 rows x 1 columns]"
      ]
     },
     "execution_count": 11,
     "metadata": {},
     "output_type": "execute_result"
    }
   ],
   "source": [
    "trip_data.groupby('start_station_id').agg({'start_station_name':'unique'})"
   ]
  },
  {
   "cell_type": "code",
   "execution_count": 12,
   "id": "33f25b80",
   "metadata": {},
   "outputs": [],
   "source": [
    "# check if there are several station names assigned to one station_id\n",
    "def check_id_names():\n",
    "    \"\"\"\n",
    "    Method to check if multiple names are assigned to a single station id\n",
    "    Input: None\n",
    "    Returns: None\n",
    "    \"\"\"\n",
    "    test = trip_data.groupby('start_station_id').agg({'start_station_name':'unique'})\n",
    "    test['len']  = test['start_station_name'].str.len()\n",
    "    dup = test.loc[(test['len']>1)]\n",
    "    \n",
    "    print(dup.iloc[:,0].values)"
   ]
  },
  {
   "cell_type": "code",
   "execution_count": 13,
   "id": "0eb09ddd",
   "metadata": {},
   "outputs": [
    {
     "name": "stdout",
     "output_type": "stream",
     "text": [
      "[array(['Commonwealth Ave at Buick St', 'Commonwealth Ave at Agganis Way'],\n",
      "       dtype=object)\n",
      " array(['Boylston St at Arlington St TEMPORARY WINTER LOCATION',\n",
      "        'Boylston St at Arlington St'], dtype=object)\n",
      " array(['Yawkey Way at Boylston St.', 'Jersey St. at Boylston St.'],\n",
      "       dtype=object)\n",
      " array(['Beacon St at Arlington St', 'Mugar Way at Beacon St'],\n",
      "       dtype=object)\n",
      " array(['Charles Circle - Charles St at Cambridge St TEMPORARY WINTER LOCATION',\n",
      "        'Charles Circle - Charles St at Cambridge St'], dtype=object)\n",
      " array(['Allston Green District - Griggs St at Commonwealth Ave TEMPORARY WINTER LOCATION',\n",
      "        'Allston Green District - Griggs St at Commonwealth Ave'],\n",
      "       dtype=object)\n",
      " array(['Coolidge Corner - Beacon St @ Centre St',\n",
      "        'Coolidge Corner - Beacon St at Centre St'], dtype=object)\n",
      " array(['Boylston St at Washington St', 'Chinatown T Stop'], dtype=object)\n",
      " array(['Washington Square at Washington St. / Beacon St. TEMPORARY WINTER LOCATION',\n",
      "        'Washington Square at Washington St. / Beacon St.',\n",
      "        'Beacon St at Tappan St'], dtype=object)\n",
      " array(['Packard Ave / Powderhouse Blvd',\n",
      "        'Packard Ave at Powderhouse Blvd'], dtype=object)\n",
      " array(['Charles St and Beacon St', 'Beacon St at Charles St'],\n",
      "       dtype=object)\n",
      " array([\"Upham's Corner TEMPORARY WINTER LOCATION\", \"Upham's Corner\"],\n",
      "       dtype=object)\n",
      " array(['Huntington Ave at Mass Art',\n",
      "        'Huntington Ave at Mass Art (former)'], dtype=object)\n",
      " array(['Harvard Ave at Brainerd Rd',\n",
      "        'Harvard Ave at Brainerd Rd (former)'], dtype=object)\n",
      " array(['Huron Ave. At Vassal Lane', 'Huron Ave At Vassal Lane'],\n",
      "       dtype=object)\n",
      " array(['Brookline Village - Station Street @ MBTA TEMPORARY WINTER LOCATION',\n",
      "        'Brookline Village - Station Street @ MBTA', 'Brookline Town Hall'],\n",
      "       dtype=object)\n",
      " array(['Brian P. Murphy Staircase at Child Street',\n",
      "        'Child St at North St'], dtype=object)\n",
      " array(['Central Square - East Boston', 'Boston East - 126 Border St'],\n",
      "       dtype=object)\n",
      " array(['Grove St at Community Path',\n",
      "        'Grove St at Community Path (former)'], dtype=object)\n",
      " array(['Washington St at Myrtle St',\n",
      "        'Washington St at Myrtle St (former)'], dtype=object)\n",
      " array(['699 Mt Auburn St', '699 Mt Auburn St (former)'], dtype=object)\n",
      " array(['Mass Ave at Hadley/Walden', 'Mass Ave at Hadley/Walden (former)'],\n",
      "       dtype=object)\n",
      " array(['Harvard St at Greene-Rose Heritage Park',\n",
      "        'Harvard St at Greene-Rose Heritage Park (former)'], dtype=object)\n",
      " array(['Mattapan T Stop', 'Mattapan T Stop (former)'], dtype=object)\n",
      " array(['Roslindale Village - South St',\n",
      "        'Roslindale Village - South St (former)'], dtype=object)\n",
      " array(['Commonwealth Ave at Kelton St',\n",
      "        'Commonwealth Ave at Kelton St (former)'], dtype=object)\n",
      " array(['Archdale Rd at Washington St',\n",
      "        'Archdale Rd at Washington St (former)'], dtype=object)\n",
      " array(['Blue Hill Ave at Almont St',\n",
      "        'Blue Hill Ave at Almont St (former)'], dtype=object)\n",
      " array(['Roslindale Village - Washington St',\n",
      "        'Roslindale Village - Washington St (former)'], dtype=object)\n",
      " array(['Boylston St at Jersey St', 'Boylston St at Jersey St (former)'],\n",
      "       dtype=object)\n",
      " array(['Morton St T', 'Morton St T (former)'], dtype=object)\n",
      " array(['Commonwealth Ave at Chiswick Rd',\n",
      "        'Commonwealth Ave at Chiswick Rd (former)'], dtype=object)\n",
      " array(['Park Plaza at Columbus Ave', 'Park Plaza at Charles St (former)'],\n",
      "       dtype=object)\n",
      " array(['Cleveland Circle', 'Cleveland Circle (former)'], dtype=object)\n",
      " array(['Thetford Ave at Norfolk St',\n",
      "        'Thetford Ave at Norfolk St (former)'], dtype=object)\n",
      " array(['Talbot Ave At Blue Hill Ave',\n",
      "        'Talbot Ave At Blue Hill Ave (former)'], dtype=object)\n",
      " array(['Washington St at Talbot Ave',\n",
      "        'Washington St at Talbot Ave (former)'], dtype=object)\n",
      " array(['Codman Square Library', 'Codman Square Library (former)'],\n",
      "       dtype=object)\n",
      " array(['Faneuil St at Arlington St',\n",
      "        'Faneuil St at Arlington St (former)'], dtype=object)\n",
      " array(['Mattapan Library', 'Mattapan Library (former)'], dtype=object)\n",
      " array(['Washington St at Egremont Rd',\n",
      "        'Washington St at Egremont Rd (former)'], dtype=object)\n",
      " array(['Bennington St at Constitution Beach',\n",
      "        'Bennington St at Constitution Beach (former)'], dtype=object)\n",
      " array(['Charlestown Navy Yard', 'Charlestown Navy Yard (former)'],\n",
      "       dtype=object)\n",
      " array(['Centre St at Seaverns Ave', 'Centre St at Seaverns Ave (former)'],\n",
      "       dtype=object)\n",
      " array(['Medford St at Charlestown BCYF',\n",
      "        'Medford St at Charlestown BCYF (former)'], dtype=object)\n",
      " array(['Main St at Thompson Sq', 'Main St at Thompson Sq (former)'],\n",
      "       dtype=object)\n",
      " array(['One Brigham Circle', 'One Brigham Circle (former)'], dtype=object)\n",
      " array(['Bartlett St at John Elliot Sq',\n",
      "        'Bartlett St at John Elliot Sq (former)'], dtype=object)\n",
      " array(['Deerfield St at Commonwealth Ave',\n",
      "        'Deerfield St at Commonwealth Ave (former)'], dtype=object)\n",
      " array(['Columbia Rd at Tierney Community Center',\n",
      "        'Columbia Rd at Tierney Community Center (former)'], dtype=object)\n",
      " array(['Broadway T Stop', 'Broadway T Stop (former)'], dtype=object)]\n"
     ]
    }
   ],
   "source": [
    "check_id_names()"
   ]
  },
  {
   "cell_type": "markdown",
   "id": "18469f65",
   "metadata": {},
   "source": [
    "There are station ids that are assigned to two, some even three, different names. Most of the cases seem to exist because station names end in the trip_data with \"(former)\" or \"TEMPORARY WINTER LOCATION\". Even though those suffixes might indicate that the stations were replaced by bigger/smaller ones, we assume that the location did not change if it is listed in the station database by Bluebikes by the same id. We theorize that for all other stations that are assigned the same id, the names were changed to more accurate/relevant names (e.g. the pairs \"Boylston St at Washington St' and'Chinatown T Stop'). While this is not relevant yet, we will deal with this in 1.4.4, where we combine/merge the trip_data and station_data to enable further analyses.\n"
   ]
  },
  {
   "cell_type": "code",
   "execution_count": 14,
   "id": "39201de4-20d7-4cec-ac84-9d7bdd48220f",
   "metadata": {},
   "outputs": [
    {
     "name": "stdout",
     "output_type": "stream",
     "text": [
      "Bike IDs range from 1 to 4553\n",
      "Total # of bike used in 2018: 4045 bikes\n"
     ]
    }
   ],
   "source": [
    "bike_ids = trip_data[['bike_id']].values\n",
    "\n",
    "print('Bike IDs range from %s to %s' %(np.unique(bike_ids).min(), np.unique(bike_ids).max()))\n",
    "print('Total # of bike used in 2018: %s bikes' % (len(np.unique(bike_ids))))"
   ]
  },
  {
   "cell_type": "code",
   "execution_count": 15,
   "id": "8458921c-63fe-42d3-9404-85ca04b4c039",
   "metadata": {},
   "outputs": [
    {
     "name": "stdout",
     "output_type": "stream",
     "text": [
      "User types are: ['Customer' 'Subscriber']\n"
     ]
    }
   ],
   "source": [
    "print('User types are: %s' % (np.unique(trip_data[['user_type']].values)))"
   ]
  },
  {
   "cell_type": "markdown",
   "id": "6833503d-1544-42fc-8832-1e259b0f4de0",
   "metadata": {},
   "source": [
    "#### 1.2.2 Formatting the data"
   ]
  },
  {
   "cell_type": "code",
   "execution_count": 16,
   "id": "748a009a-6ddd-4079-b161-52b68c1dd836",
   "metadata": {},
   "outputs": [],
   "source": [
    "# transform start_time and end_time to datetime\n",
    "trip_data[['start_time','end_time']] = trip_data[['start_time','end_time']].apply(pd.to_datetime)\n",
    "\n",
    "# start hour = absolute hour within the a day (0-23h)\n",
    "trip_data['start_hour'] = pd.DatetimeIndex(trip_data['start_time']).hour\n",
    "\n",
    "# weekday = day within a single week (values 0-6, where 0 = monday)\n",
    "trip_data['weekday'] = pd.DatetimeIndex(trip_data['start_time']).weekday\n",
    "\n",
    "# number of the month (1-12, where 1 = January)\n",
    "trip_data['month'] = pd.DatetimeIndex(trip_data['start_time']).month\n",
    "\n",
    "# duration of a trip in seconds\n",
    "trip_data['duration'] = (trip_data['end_time'] - trip_data['start_time']).dt.total_seconds().astype(int)\n",
    "\n",
    "# convert station_ids to string\n",
    "trip_data[['start_station_id', 'end_station_id']] = trip_data[['start_station_id', 'end_station_id']].astype(str)"
   ]
  },
  {
   "cell_type": "code",
   "execution_count": 17,
   "id": "c6223564-6054-4755-b926-66360c0ff695",
   "metadata": {},
   "outputs": [
    {
     "data": {
      "text/html": [
       "<div>\n",
       "<style scoped>\n",
       "    .dataframe tbody tr th:only-of-type {\n",
       "        vertical-align: middle;\n",
       "    }\n",
       "\n",
       "    .dataframe tbody tr th {\n",
       "        vertical-align: top;\n",
       "    }\n",
       "\n",
       "    .dataframe thead th {\n",
       "        text-align: right;\n",
       "    }\n",
       "</style>\n",
       "<table border=\"1\" class=\"dataframe\">\n",
       "  <thead>\n",
       "    <tr style=\"text-align: right;\">\n",
       "      <th></th>\n",
       "      <th>start_time</th>\n",
       "      <th>end_time</th>\n",
       "      <th>start_station_id</th>\n",
       "      <th>end_station_id</th>\n",
       "      <th>start_station_name</th>\n",
       "      <th>end_station_name</th>\n",
       "      <th>bike_id</th>\n",
       "      <th>user_type</th>\n",
       "      <th>start_hour</th>\n",
       "      <th>weekday</th>\n",
       "      <th>month</th>\n",
       "      <th>duration</th>\n",
       "    </tr>\n",
       "  </thead>\n",
       "  <tbody>\n",
       "    <tr>\n",
       "      <th>0</th>\n",
       "      <td>2018-01-01 00:16:33.000</td>\n",
       "      <td>2018-01-01 00:23:01.000</td>\n",
       "      <td>178</td>\n",
       "      <td>107</td>\n",
       "      <td>MIT Pacific St at Purrington St</td>\n",
       "      <td>Ames St at Main St</td>\n",
       "      <td>643</td>\n",
       "      <td>Subscriber</td>\n",
       "      <td>0</td>\n",
       "      <td>0</td>\n",
       "      <td>1</td>\n",
       "      <td>388</td>\n",
       "    </tr>\n",
       "    <tr>\n",
       "      <th>1</th>\n",
       "      <td>2018-01-01 00:42:00.000</td>\n",
       "      <td>2018-01-01 00:46:25.000</td>\n",
       "      <td>78</td>\n",
       "      <td>225</td>\n",
       "      <td>Union Square - Somerville</td>\n",
       "      <td>Cambridge Dept. of Public Works -147 Hampshire...</td>\n",
       "      <td>1581</td>\n",
       "      <td>Subscriber</td>\n",
       "      <td>0</td>\n",
       "      <td>0</td>\n",
       "      <td>1</td>\n",
       "      <td>265</td>\n",
       "    </tr>\n",
       "    <tr>\n",
       "      <th>2</th>\n",
       "      <td>2018-01-01 00:42:44.000</td>\n",
       "      <td>2018-01-01 01:02:11.000</td>\n",
       "      <td>16</td>\n",
       "      <td>76</td>\n",
       "      <td>Back Bay T Stop - Dartmouth St at Stuart St</td>\n",
       "      <td>Central Sq Post Office / Cambridge City Hall a...</td>\n",
       "      <td>173</td>\n",
       "      <td>Subscriber</td>\n",
       "      <td>0</td>\n",
       "      <td>0</td>\n",
       "      <td>1</td>\n",
       "      <td>1167</td>\n",
       "    </tr>\n",
       "    <tr>\n",
       "      <th>3</th>\n",
       "      <td>2018-01-01 00:56:50.000</td>\n",
       "      <td>2018-01-01 01:11:06.000</td>\n",
       "      <td>69</td>\n",
       "      <td>177</td>\n",
       "      <td>Coolidge Corner - Beacon St @ Centre St</td>\n",
       "      <td>University Park</td>\n",
       "      <td>1772</td>\n",
       "      <td>Subscriber</td>\n",
       "      <td>0</td>\n",
       "      <td>0</td>\n",
       "      <td>1</td>\n",
       "      <td>856</td>\n",
       "    </tr>\n",
       "    <tr>\n",
       "      <th>4</th>\n",
       "      <td>2018-01-01 01:07:54.000</td>\n",
       "      <td>2018-01-01 01:16:02.000</td>\n",
       "      <td>4</td>\n",
       "      <td>46</td>\n",
       "      <td>Tremont St at E Berkeley St</td>\n",
       "      <td>Christian Science Plaza - Massachusetts Ave at...</td>\n",
       "      <td>1183</td>\n",
       "      <td>Subscriber</td>\n",
       "      <td>1</td>\n",
       "      <td>0</td>\n",
       "      <td>1</td>\n",
       "      <td>488</td>\n",
       "    </tr>\n",
       "    <tr>\n",
       "      <th>...</th>\n",
       "      <td>...</td>\n",
       "      <td>...</td>\n",
       "      <td>...</td>\n",
       "      <td>...</td>\n",
       "      <td>...</td>\n",
       "      <td>...</td>\n",
       "      <td>...</td>\n",
       "      <td>...</td>\n",
       "      <td>...</td>\n",
       "      <td>...</td>\n",
       "      <td>...</td>\n",
       "      <td>...</td>\n",
       "    </tr>\n",
       "    <tr>\n",
       "      <th>1767801</th>\n",
       "      <td>2018-12-31 23:48:46.706</td>\n",
       "      <td>2018-12-31 23:56:55.629</td>\n",
       "      <td>19</td>\n",
       "      <td>179</td>\n",
       "      <td>Park Dr at Buswell St</td>\n",
       "      <td>MIT Vassar St</td>\n",
       "      <td>4440</td>\n",
       "      <td>Subscriber</td>\n",
       "      <td>23</td>\n",
       "      <td>0</td>\n",
       "      <td>12</td>\n",
       "      <td>488</td>\n",
       "    </tr>\n",
       "    <tr>\n",
       "      <th>1767802</th>\n",
       "      <td>2018-12-31 23:48:58.971</td>\n",
       "      <td>2019-01-01 03:13:49.512</td>\n",
       "      <td>40</td>\n",
       "      <td>40</td>\n",
       "      <td>Lewis Wharf at Atlantic Ave</td>\n",
       "      <td>Lewis Wharf at Atlantic Ave</td>\n",
       "      <td>2117</td>\n",
       "      <td>Subscriber</td>\n",
       "      <td>23</td>\n",
       "      <td>0</td>\n",
       "      <td>12</td>\n",
       "      <td>12290</td>\n",
       "    </tr>\n",
       "    <tr>\n",
       "      <th>1767803</th>\n",
       "      <td>2018-12-31 23:51:19.859</td>\n",
       "      <td>2019-01-01 00:17:15.741</td>\n",
       "      <td>68</td>\n",
       "      <td>68</td>\n",
       "      <td>Central Square at Mass Ave / Essex St</td>\n",
       "      <td>Central Square at Mass Ave / Essex St</td>\n",
       "      <td>3725</td>\n",
       "      <td>Subscriber</td>\n",
       "      <td>23</td>\n",
       "      <td>0</td>\n",
       "      <td>12</td>\n",
       "      <td>1555</td>\n",
       "    </tr>\n",
       "    <tr>\n",
       "      <th>1767804</th>\n",
       "      <td>2018-12-31 23:54:16.753</td>\n",
       "      <td>2018-12-31 23:57:17.965</td>\n",
       "      <td>352</td>\n",
       "      <td>36</td>\n",
       "      <td>Ring Rd</td>\n",
       "      <td>Copley Square - Dartmouth St at Boylston St</td>\n",
       "      <td>3605</td>\n",
       "      <td>Customer</td>\n",
       "      <td>23</td>\n",
       "      <td>0</td>\n",
       "      <td>12</td>\n",
       "      <td>181</td>\n",
       "    </tr>\n",
       "    <tr>\n",
       "      <th>1767805</th>\n",
       "      <td>2018-12-31 23:54:38.885</td>\n",
       "      <td>2018-12-31 23:59:30.718</td>\n",
       "      <td>352</td>\n",
       "      <td>36</td>\n",
       "      <td>Ring Rd</td>\n",
       "      <td>Copley Square - Dartmouth St at Boylston St</td>\n",
       "      <td>1372</td>\n",
       "      <td>Customer</td>\n",
       "      <td>23</td>\n",
       "      <td>0</td>\n",
       "      <td>12</td>\n",
       "      <td>291</td>\n",
       "    </tr>\n",
       "  </tbody>\n",
       "</table>\n",
       "<p>1767806 rows × 12 columns</p>\n",
       "</div>"
      ],
      "text/plain": [
       "                     start_time                end_time start_station_id  \\\n",
       "0       2018-01-01 00:16:33.000 2018-01-01 00:23:01.000              178   \n",
       "1       2018-01-01 00:42:00.000 2018-01-01 00:46:25.000               78   \n",
       "2       2018-01-01 00:42:44.000 2018-01-01 01:02:11.000               16   \n",
       "3       2018-01-01 00:56:50.000 2018-01-01 01:11:06.000               69   \n",
       "4       2018-01-01 01:07:54.000 2018-01-01 01:16:02.000                4   \n",
       "...                         ...                     ...              ...   \n",
       "1767801 2018-12-31 23:48:46.706 2018-12-31 23:56:55.629               19   \n",
       "1767802 2018-12-31 23:48:58.971 2019-01-01 03:13:49.512               40   \n",
       "1767803 2018-12-31 23:51:19.859 2019-01-01 00:17:15.741               68   \n",
       "1767804 2018-12-31 23:54:16.753 2018-12-31 23:57:17.965              352   \n",
       "1767805 2018-12-31 23:54:38.885 2018-12-31 23:59:30.718              352   \n",
       "\n",
       "        end_station_id                           start_station_name  \\\n",
       "0                  107              MIT Pacific St at Purrington St   \n",
       "1                  225                    Union Square - Somerville   \n",
       "2                   76  Back Bay T Stop - Dartmouth St at Stuart St   \n",
       "3                  177      Coolidge Corner - Beacon St @ Centre St   \n",
       "4                   46                  Tremont St at E Berkeley St   \n",
       "...                ...                                          ...   \n",
       "1767801            179                        Park Dr at Buswell St   \n",
       "1767802             40                  Lewis Wharf at Atlantic Ave   \n",
       "1767803             68        Central Square at Mass Ave / Essex St   \n",
       "1767804             36                                      Ring Rd   \n",
       "1767805             36                                      Ring Rd   \n",
       "\n",
       "                                          end_station_name  bike_id  \\\n",
       "0                                       Ames St at Main St      643   \n",
       "1        Cambridge Dept. of Public Works -147 Hampshire...     1581   \n",
       "2        Central Sq Post Office / Cambridge City Hall a...      173   \n",
       "3                                          University Park     1772   \n",
       "4        Christian Science Plaza - Massachusetts Ave at...     1183   \n",
       "...                                                    ...      ...   \n",
       "1767801                                      MIT Vassar St     4440   \n",
       "1767802                        Lewis Wharf at Atlantic Ave     2117   \n",
       "1767803              Central Square at Mass Ave / Essex St     3725   \n",
       "1767804        Copley Square - Dartmouth St at Boylston St     3605   \n",
       "1767805        Copley Square - Dartmouth St at Boylston St     1372   \n",
       "\n",
       "          user_type  start_hour  weekday  month  duration  \n",
       "0        Subscriber           0        0      1       388  \n",
       "1        Subscriber           0        0      1       265  \n",
       "2        Subscriber           0        0      1      1167  \n",
       "3        Subscriber           0        0      1       856  \n",
       "4        Subscriber           1        0      1       488  \n",
       "...             ...         ...      ...    ...       ...  \n",
       "1767801  Subscriber          23        0     12       488  \n",
       "1767802  Subscriber          23        0     12     12290  \n",
       "1767803  Subscriber          23        0     12      1555  \n",
       "1767804    Customer          23        0     12       181  \n",
       "1767805    Customer          23        0     12       291  \n",
       "\n",
       "[1767806 rows x 12 columns]"
      ]
     },
     "execution_count": 17,
     "metadata": {},
     "output_type": "execute_result"
    }
   ],
   "source": [
    "trip_data"
   ]
  },
  {
   "cell_type": "markdown",
   "id": "27b959ab-4a1b-46d7-b1c7-4c32a01661a9",
   "metadata": {},
   "source": [
    "#### 1.2.3 Cleaning the data"
   ]
  },
  {
   "cell_type": "code",
   "execution_count": 18,
   "id": "a78c7f23-5989-414c-8bfa-490cadf4bd57",
   "metadata": {},
   "outputs": [
    {
     "name": "stdout",
     "output_type": "stream",
     "text": [
      "Analyzing the dataset \n",
      "---------------------\n",
      "Are there any NaN values -  False\n",
      "Are there any null values -  False\n",
      "Number of duplicate rows - 0\n",
      "Number of bike trips below 60 seconds - 1\n"
     ]
    }
   ],
   "source": [
    "print('Analyzing the dataset \\n---------------------')\n",
    "print('Are there any NaN values - ',trip_data.isnull().values.any())\n",
    "print('Are there any null values - ',trip_data.isnull().values.any())\n",
    "print('Number of duplicate rows -', trip_data.duplicated().sum())\n",
    "print('Number of bike trips below 60 seconds -',len(trip_data.loc[trip_data['duration']<60]))"
   ]
  },
  {
   "cell_type": "markdown",
   "id": "c95c5f95",
   "metadata": {},
   "source": [
    "We do not need to handle missing data or eliminate duplicate entries in this case."
   ]
  },
  {
   "cell_type": "code",
   "execution_count": 19,
   "id": "c336b5d6",
   "metadata": {},
   "outputs": [],
   "source": [
    "#delete rows where duration of bike trips is below 60 seconds\n",
    "trip_data.drop(trip_data[trip_data['duration'] < 60].index, inplace=True)"
   ]
  },
  {
   "cell_type": "markdown",
   "id": "53eb9da0",
   "metadata": {},
   "source": [
    "Bluebikes cleaned the data from bike trips that fall below 60 seconds (due to \"potentially false starts or users trying to re-dock a bike to ensure it was secure\"). We therefore checked the data another time and removed entries below 60 seconds, as they should not be there and are most likely faulty data."
   ]
  },
  {
   "cell_type": "code",
   "execution_count": 20,
   "id": "70b03a6f-9076-47cf-8916-772e1e0b527b",
   "metadata": {},
   "outputs": [
    {
     "data": {
      "text/plain": [
       "count     29463.416667\n",
       "mean         26.641621\n",
       "std         520.109471\n",
       "min           1.016667\n",
       "25%           6.866667\n",
       "50%          11.600000\n",
       "75%          19.650000\n",
       "max      155475.966667\n",
       "Name: duration, dtype: object"
      ]
     },
     "execution_count": 20,
     "metadata": {},
     "output_type": "execute_result"
    }
   ],
   "source": [
    "#show duration data in minutes\n",
    "trip_data['duration'].describe().apply(lambda x: format(x/60, 'f'))"
   ]
  },
  {
   "cell_type": "code",
   "execution_count": 21,
   "id": "a1c7ee3c-6538-4e42-8770-120357f2897a",
   "metadata": {},
   "outputs": [
    {
     "data": {
      "image/png": "[encoded data removed]",
      "text/plain": [
       "<Figure size 432x288 with 1 Axes>"
      ]
     },
     "metadata": {
      "needs_background": "light"
     },
     "output_type": "display_data"
    }
   ],
   "source": [
    "# showing histogram of duration\n",
    "hist_data = trip_data['duration'].value_counts()/60\n",
    "plt.hist(hist_data, bins=\"rice\", edgecolor = 'blue')\n",
    "plt.xlabel('Trip duration (minutes)')\n",
    "plt.ylabel('Number of trips')\n",
    "plt.title('Bike ride trip durations')\n",
    "plt.rcParams[\"figure.figsize\"] = (15,7)\n",
    "plt.show()"
   ]
  },
  {
   "cell_type": "code",
   "execution_count": 22,
   "id": "1c7b1766",
   "metadata": {},
   "outputs": [],
   "source": [
    "def find_outliers(df, bound=None):\n",
    "    \"\"\"\n",
    "    Method that uses the IQR-method to find upper bounds for outliers.\n",
    "    Parameters:\n",
    "    df = input dataframe\n",
    "    bound = optional parameter to only include trips that are above i (bound) minutes\n",
    "    \"\"\"\n",
    "    df_slice = df.loc[(df['duration'] > 60*bound)].copy()\n",
    "    q1, q3= np.percentile(df_slice['duration'],[25,75])\n",
    "    iqr = q3 - q1\n",
    "    #data is skewed; defining a lower bound is therefore not necessary\n",
    "    upper_bound = q3 +(1.5 * iqr)\n",
    "    upper_round = round(upper_bound/60,2)\n",
    "    abs_exceed = len(df_slice.loc[(df_slice['duration']>upper_bound)])\n",
    "    rel_exceed = round(abs_exceed*100/len(df),2)\n",
    "    print(\"The upper bound is \"+str(upper_round)+\" minutes. All values above are considered outliers by the IQR-method.\\n\"\n",
    "          +str(abs_exceed)+\"(\"+str(rel_exceed)+\"%)\"\" trips exceed this value.\\n\")\n",
    "    return upper_bound"
   ]
  },
  {
   "cell_type": "code",
   "execution_count": 23,
   "id": "d203c1bd",
   "metadata": {},
   "outputs": [
    {
     "name": "stdout",
     "output_type": "stream",
     "text": [
      "The upper bound is 38.83 minutes. All values above are considered outliers by the IQR-method.\n",
      "122287(6.92%) trips exceed this value.\n",
      "\n"
     ]
    }
   ],
   "source": [
    "upper1 = find_outliers(trip_data, 0)"
   ]
  },
  {
   "cell_type": "markdown",
   "id": "46493c04",
   "metadata": {},
   "source": [
    "The IQR-method proposes an upperbound of 38.83 minutes, that defines that all trips with durations longer than that are considered outliers. However, we argue that the pricing modells of Bluebikes include trip durations of up to two hours. While those trips are not econimical, as it would be cheaper to secure the bike and rent it another time with a subscription, there might be cases where trips above two hours are reasonable. We therefore run the IQR-method another time, this time with a sliced dataset that only includes trips with durations exceeding two hours. We theorize with confidence that the trip durations exceeding the new upperbound resulted because of customers forgetting to secure the bikes after their trip or technical issues that prevented the bike from securing correctly, thus exceeding the rental without the customer knowing."
   ]
  },
  {
   "cell_type": "code",
   "execution_count": 24,
   "id": "a4c5e4fd",
   "metadata": {},
   "outputs": [
    {
     "data": {
      "text/plain": [
       "count       4.251111\n",
       "mean       20.925231\n",
       "std        90.829946\n",
       "min         2.000278\n",
       "25%         2.324653\n",
       "50%         2.991528\n",
       "75%         6.200417\n",
       "max      2591.266111\n",
       "Name: duration, dtype: object"
      ]
     },
     "execution_count": 24,
     "metadata": {},
     "output_type": "execute_result"
    }
   ],
   "source": [
    "# describe the set of trips above two hours (in minutes)\n",
    "trip_data.loc[(trip_data['duration'] > 60*120),'duration'].describe().apply(lambda x: format(x/60/60, 'f'))"
   ]
  },
  {
   "cell_type": "code",
   "execution_count": 25,
   "id": "37ab47ff",
   "metadata": {},
   "outputs": [
    {
     "name": "stdout",
     "output_type": "stream",
     "text": [
      "The upper bound is 720.84 minutes. All values above are considered outliers by the IQR-method.\n",
      "2639(0.15%) trips exceed this value.\n",
      "\n"
     ]
    }
   ],
   "source": [
    "upper2 = find_outliers(trip_data, 120)"
   ]
  },
  {
   "cell_type": "code",
   "execution_count": 26,
   "id": "82d20902-9e17-436a-a452-976a807326d6",
   "metadata": {},
   "outputs": [],
   "source": [
    "# filter data for trips that are below the upper bound (excluding outliers)\n",
    "trip_data_clean = trip_data.loc[(trip_data['duration'] < upper2)].copy()"
   ]
  },
  {
   "cell_type": "code",
   "execution_count": 27,
   "id": "b27a8d6c-7e4d-456e-9f26-62b929de3a77",
   "metadata": {},
   "outputs": [],
   "source": [
    "trip_data_clean.to_pickle(output_path+'trip_data.pkl')"
   ]
  },
  {
   "cell_type": "markdown",
   "id": "7aad1386-a7f6-4208-915b-ae50a6260515",
   "metadata": {},
   "source": [
    "### 1.3 Weather data"
   ]
  },
  {
   "cell_type": "markdown",
   "id": "a7e7b2e7-1c6c-42a1-bb0f-b68444e78cc9",
   "metadata": {},
   "source": [
    "#### 1.3.1 Overview of the data"
   ]
  },
  {
   "cell_type": "code",
   "execution_count": 28,
   "id": "b948f7e8-7f7b-417a-a603-dfabd5777090",
   "metadata": {},
   "outputs": [
    {
     "name": "stdout",
     "output_type": "stream",
     "text": [
      "<class 'pandas.core.frame.DataFrame'>\n",
      "RangeIndex: 43848 entries, 0 to 43847\n",
      "Data columns (total 4 columns):\n",
      " #   Column     Non-Null Count  Dtype  \n",
      "---  ------     --------------  -----  \n",
      " 0   date_time  43354 non-null  object \n",
      " 1   max_temp   43354 non-null  float64\n",
      " 2   min_temp   43354 non-null  float64\n",
      " 3   precip     43356 non-null  float64\n",
      "dtypes: float64(3), object(1)\n",
      "memory usage: 1.3+ MB\n"
     ]
    }
   ],
   "source": [
    "weather_data.info()"
   ]
  },
  {
   "cell_type": "code",
   "execution_count": 29,
   "id": "14624fd2",
   "metadata": {},
   "outputs": [
    {
     "data": {
      "text/html": [
       "<div>\n",
       "<style scoped>\n",
       "    .dataframe tbody tr th:only-of-type {\n",
       "        vertical-align: middle;\n",
       "    }\n",
       "\n",
       "    .dataframe tbody tr th {\n",
       "        vertical-align: top;\n",
       "    }\n",
       "\n",
       "    .dataframe thead th {\n",
       "        text-align: right;\n",
       "    }\n",
       "</style>\n",
       "<table border=\"1\" class=\"dataframe\">\n",
       "  <thead>\n",
       "    <tr style=\"text-align: right;\">\n",
       "      <th></th>\n",
       "      <th>date_time</th>\n",
       "      <th>max_temp</th>\n",
       "      <th>min_temp</th>\n",
       "      <th>precip</th>\n",
       "    </tr>\n",
       "  </thead>\n",
       "  <tbody>\n",
       "    <tr>\n",
       "      <th>0</th>\n",
       "      <td>2015-01-02 01:00:00</td>\n",
       "      <td>-1.1</td>\n",
       "      <td>-1.1</td>\n",
       "      <td>0.0</td>\n",
       "    </tr>\n",
       "    <tr>\n",
       "      <th>1</th>\n",
       "      <td>2015-01-02 02:00:00</td>\n",
       "      <td>-1.1</td>\n",
       "      <td>-1.1</td>\n",
       "      <td>0.0</td>\n",
       "    </tr>\n",
       "    <tr>\n",
       "      <th>2</th>\n",
       "      <td>2015-01-02 03:00:00</td>\n",
       "      <td>-0.6</td>\n",
       "      <td>-0.6</td>\n",
       "      <td>0.0</td>\n",
       "    </tr>\n",
       "    <tr>\n",
       "      <th>3</th>\n",
       "      <td>2015-01-02 04:00:00</td>\n",
       "      <td>-0.6</td>\n",
       "      <td>-0.6</td>\n",
       "      <td>0.0</td>\n",
       "    </tr>\n",
       "    <tr>\n",
       "      <th>4</th>\n",
       "      <td>2015-01-02 05:00:00</td>\n",
       "      <td>-0.6</td>\n",
       "      <td>-0.6</td>\n",
       "      <td>0.0</td>\n",
       "    </tr>\n",
       "    <tr>\n",
       "      <th>...</th>\n",
       "      <td>...</td>\n",
       "      <td>...</td>\n",
       "      <td>...</td>\n",
       "      <td>...</td>\n",
       "    </tr>\n",
       "    <tr>\n",
       "      <th>43843</th>\n",
       "      <td>2020-01-01 20:00:00</td>\n",
       "      <td>5.0</td>\n",
       "      <td>5.0</td>\n",
       "      <td>0.0</td>\n",
       "    </tr>\n",
       "    <tr>\n",
       "      <th>43844</th>\n",
       "      <td>2020-01-01 21:00:00</td>\n",
       "      <td>4.4</td>\n",
       "      <td>4.4</td>\n",
       "      <td>0.0</td>\n",
       "    </tr>\n",
       "    <tr>\n",
       "      <th>43845</th>\n",
       "      <td>2020-01-01 22:00:00</td>\n",
       "      <td>4.4</td>\n",
       "      <td>4.4</td>\n",
       "      <td>0.0</td>\n",
       "    </tr>\n",
       "    <tr>\n",
       "      <th>43846</th>\n",
       "      <td>2020-01-01 23:00:00</td>\n",
       "      <td>3.9</td>\n",
       "      <td>3.9</td>\n",
       "      <td>0.0</td>\n",
       "    </tr>\n",
       "    <tr>\n",
       "      <th>43847</th>\n",
       "      <td>2020-01-02 00:00:00</td>\n",
       "      <td>3.3</td>\n",
       "      <td>3.3</td>\n",
       "      <td>0.0</td>\n",
       "    </tr>\n",
       "  </tbody>\n",
       "</table>\n",
       "<p>43848 rows × 4 columns</p>\n",
       "</div>"
      ],
      "text/plain": [
       "                 date_time  max_temp  min_temp  precip\n",
       "0      2015-01-02 01:00:00      -1.1      -1.1     0.0\n",
       "1      2015-01-02 02:00:00      -1.1      -1.1     0.0\n",
       "2      2015-01-02 03:00:00      -0.6      -0.6     0.0\n",
       "3      2015-01-02 04:00:00      -0.6      -0.6     0.0\n",
       "4      2015-01-02 05:00:00      -0.6      -0.6     0.0\n",
       "...                    ...       ...       ...     ...\n",
       "43843  2020-01-01 20:00:00       5.0       5.0     0.0\n",
       "43844  2020-01-01 21:00:00       4.4       4.4     0.0\n",
       "43845  2020-01-01 22:00:00       4.4       4.4     0.0\n",
       "43846  2020-01-01 23:00:00       3.9       3.9     0.0\n",
       "43847  2020-01-02 00:00:00       3.3       3.3     0.0\n",
       "\n",
       "[43848 rows x 4 columns]"
      ]
     },
     "execution_count": 29,
     "metadata": {},
     "output_type": "execute_result"
    }
   ],
   "source": [
    "weather_data"
   ]
  },
  {
   "cell_type": "markdown",
   "id": "cb71649f-814d-448f-8444-5bbd5c00a69e",
   "metadata": {},
   "source": [
    "#### 1.3.2 Formatting the data"
   ]
  },
  {
   "cell_type": "code",
   "execution_count": 30,
   "id": "523bf734-a548-45d6-a2a1-4e197834fe3e",
   "metadata": {},
   "outputs": [],
   "source": [
    "#set datatype\n",
    "weather_data['date_time'] = pd.to_datetime(weather_data['date_time'])"
   ]
  },
  {
   "cell_type": "code",
   "execution_count": 31,
   "id": "9347b5fe-c8e5-49d8-996f-e35212350235",
   "metadata": {},
   "outputs": [],
   "source": [
    "#create slice of df with values that are relevant for our data (2018)\n",
    "weather_data_2018 = weather_data[(weather_data['date_time'] >= \"2018-01-01\") & (weather_data['date_time'] < \"2019-01-01\")].copy()"
   ]
  },
  {
   "cell_type": "code",
   "execution_count": 32,
   "id": "8e33f322",
   "metadata": {
    "scrolled": false
   },
   "outputs": [],
   "source": [
    "# sort the dataframe in acending order\n",
    "weather_data_2018.sort_index(inplace=True)"
   ]
  },
  {
   "cell_type": "markdown",
   "id": "5373a9b3-7013-4ef4-a897-0a1d02472cfa",
   "metadata": {},
   "source": [
    "#### 1.3.3 Cleaning the data"
   ]
  },
  {
   "cell_type": "code",
   "execution_count": 33,
   "id": "535c52a6-a4a5-4052-9416-9b610f3946ee",
   "metadata": {},
   "outputs": [
    {
     "name": "stdout",
     "output_type": "stream",
     "text": [
      "The dataframe has 0  null values.\n",
      "The dataframe has 149 duplicate rows.\n"
     ]
    }
   ],
   "source": [
    "# check for null values and duplicates\n",
    "print('The dataframe has %s  null values.' % (weather_data_2018.isnull().values.sum()))\n",
    "print('The dataframe has %s duplicate rows.' % (weather_data_2018.duplicated().sum()))"
   ]
  },
  {
   "cell_type": "code",
   "execution_count": 34,
   "id": "3d7b6ef7-c20c-47ce-91c5-060bb358f643",
   "metadata": {},
   "outputs": [],
   "source": [
    "# # drop duplicate rows\n",
    "weather_data_2018.drop_duplicates(subset='date_time', keep='first', inplace=True)"
   ]
  },
  {
   "cell_type": "code",
   "execution_count": 35,
   "id": "334a74cd",
   "metadata": {},
   "outputs": [],
   "source": [
    "def check_missing_values(df):\n",
    "    # Checking if we have any gaps in our dataframe\n",
    "    # Create expected date range\n",
    "    date_range = pd.date_range(start=df['date_time'].min(), end=df['date_time'].max(), freq='H')\n",
    "    \n",
    "    # Check for missing dates\n",
    "    missing_dates = date_range.difference(df['date_time'])\n",
    "\n",
    "    if len(missing_dates) > 0:\n",
    "        print(\"There are \",len(missing_dates),\" gaps in date_time and \"+ str(len(df[df['precip'].isna()])) +\" nan values in the weather data.\")\n",
    "    else:\n",
    "        print(\"There are no gaps in date_time and \"+ str(len(df[df['precip'].isna()])) +\" nan values in the weather data.\")"
   ]
  },
  {
   "cell_type": "code",
   "execution_count": 36,
   "id": "399d9181",
   "metadata": {},
   "outputs": [],
   "source": [
    "def fill_missing_values(df):\n",
    "    df['index'] = df['date_time']\n",
    "    \n",
    "    # set date_time as index\n",
    "    df.set_index('index', inplace=True)\n",
    "\n",
    "    # sort the dataframe in acending order\n",
    "    df.sort_index(inplace=True)\n",
    "\n",
    "    # add the missing rows with a specific frequency -> 'H' for hourly\n",
    "    df = df.reindex(pd.date_range(start=df.index.min(), end=df.index.max(), freq='H'))\n",
    "\n",
    "    # fill the missing values of min_temp; max_temp and precip with the average of the previous and next hour's values\n",
    "    df = df.interpolate(method='linear')\n",
    "    \n",
    "    # set index to column\n",
    "    df['date_time'] = df.index\n",
    "    \n",
    "    print(str(len(df.loc[(df['precip']>0)&(df['precip']<1)]))+\" rows in the data are inbetween rainy/sunny hours\")\n",
    "    \n",
    "    # set values for precip that are not binary to a random binary variable\n",
    "    df.loc[(df['precip']>0)&(df['precip']<1), 'precip'] = np.random.choice([0,1])\n",
    "    \n",
    "    # reset the index as we do not need it anymore\n",
    "    df.reset_index(drop=True, inplace=True)\n",
    "    \n",
    "    return df"
   ]
  },
  {
   "cell_type": "code",
   "execution_count": 37,
   "id": "a0ad3064-2a12-4027-a6c8-8a080336d6f8",
   "metadata": {},
   "outputs": [
    {
     "name": "stdout",
     "output_type": "stream",
     "text": [
      "There are  689  gaps in date_time and 0 nan values in the weather data.\n"
     ]
    }
   ],
   "source": [
    "check_missing_values(weather_data_2018)"
   ]
  },
  {
   "cell_type": "code",
   "execution_count": 38,
   "id": "31f2ca45-b4d0-4f9a-b273-72194a8d2b5f",
   "metadata": {},
   "outputs": [
    {
     "name": "stdout",
     "output_type": "stream",
     "text": [
      "149 rows in the data are inbetween rainy/sunny hours\n"
     ]
    }
   ],
   "source": [
    "weather_data_cleaned = fill_missing_values(weather_data_2018)"
   ]
  },
  {
   "cell_type": "markdown",
   "id": "718e5d66",
   "metadata": {},
   "source": [
    "We filled the gaps for hourly weather data and precip via linear interpolation. We assume that it did (not) rain in between hours with (without) rain. 149 values were between hours where it did and did not rain. This creates values between [0,1] and is therefore not valid for further analyses. Because we cannot know when the rain started exactly, we set those values to a random binary variable. This creates some fuzziness in our data, however it is neglible because (a) the amount of such data is relatively low and (b) precip is only one feature in a set of features."
   ]
  },
  {
   "cell_type": "code",
   "execution_count": 39,
   "id": "ba7b334c",
   "metadata": {},
   "outputs": [
    {
     "name": "stdout",
     "output_type": "stream",
     "text": [
      "There are no gaps in date_time and 0 nan values in the weather data.\n"
     ]
    }
   ],
   "source": [
    "check_missing_values(weather_data_cleaned)"
   ]
  },
  {
   "cell_type": "code",
   "execution_count": 40,
   "id": "e55ace7c-ae43-48ad-a4a8-4fed0f7b7c35",
   "metadata": {},
   "outputs": [],
   "source": [
    "weather_data_cleaned.to_pickle(output_path+'weather_data.pkl')"
   ]
  },
  {
   "cell_type": "markdown",
   "id": "4ed2c483-70d6-4a3f-bd84-5a073ee54bd5",
   "metadata": {},
   "source": [
    "### 1.4 Station data"
   ]
  },
  {
   "cell_type": "markdown",
   "id": "9aa72d6f-ed08-4676-915e-e81df72c2e54",
   "metadata": {},
   "source": [
    "#### 1.4.1 Overview of the data"
   ]
  },
  {
   "cell_type": "code",
   "execution_count": 41,
   "id": "147e2390-1e04-42c2-8170-2a79622dde36",
   "metadata": {},
   "outputs": [
    {
     "name": "stdout",
     "output_type": "stream",
     "text": [
      "<class 'pandas.core.frame.DataFrame'>\n",
      "RangeIndex: 448 entries, 0 to 447\n",
      "Data columns (total 8 columns):\n",
      " #   Column              Non-Null Count  Dtype  \n",
      "---  ------              --------------  -----  \n",
      " 0   Number              448 non-null    object \n",
      " 1   Name                448 non-null    object \n",
      " 2   Latitude            448 non-null    float64\n",
      " 3   Longitude           448 non-null    float64\n",
      " 4   District            444 non-null    object \n",
      " 5   Public              448 non-null    object \n",
      " 6   Total docks         448 non-null    int64  \n",
      " 7   Deployment Year;;;  448 non-null    object \n",
      "dtypes: float64(2), int64(1), object(5)\n",
      "memory usage: 28.1+ KB\n"
     ]
    }
   ],
   "source": [
    "station_data.info()"
   ]
  },
  {
   "cell_type": "code",
   "execution_count": 42,
   "id": "132723b6",
   "metadata": {},
   "outputs": [
    {
     "data": {
      "text/html": [
       "<div>\n",
       "<style scoped>\n",
       "    .dataframe tbody tr th:only-of-type {\n",
       "        vertical-align: middle;\n",
       "    }\n",
       "\n",
       "    .dataframe tbody tr th {\n",
       "        vertical-align: top;\n",
       "    }\n",
       "\n",
       "    .dataframe thead th {\n",
       "        text-align: right;\n",
       "    }\n",
       "</style>\n",
       "<table border=\"1\" class=\"dataframe\">\n",
       "  <thead>\n",
       "    <tr style=\"text-align: right;\">\n",
       "      <th></th>\n",
       "      <th>Number</th>\n",
       "      <th>Name</th>\n",
       "      <th>Latitude</th>\n",
       "      <th>Longitude</th>\n",
       "      <th>District</th>\n",
       "      <th>Public</th>\n",
       "      <th>Total docks</th>\n",
       "      <th>Deployment Year;;;</th>\n",
       "    </tr>\n",
       "  </thead>\n",
       "  <tbody>\n",
       "    <tr>\n",
       "      <th>0</th>\n",
       "      <td>K32015</td>\n",
       "      <td>1200 Beacon St</td>\n",
       "      <td>42.344149</td>\n",
       "      <td>-71.114674</td>\n",
       "      <td>Brookline</td>\n",
       "      <td>Yes</td>\n",
       "      <td>15</td>\n",
       "      <td>2021;;;</td>\n",
       "    </tr>\n",
       "    <tr>\n",
       "      <th>1</th>\n",
       "      <td>W32006</td>\n",
       "      <td>160 Arsenal</td>\n",
       "      <td>42.364664</td>\n",
       "      <td>-71.175694</td>\n",
       "      <td>Watertown</td>\n",
       "      <td>Yes</td>\n",
       "      <td>11</td>\n",
       "      <td>2021;;;</td>\n",
       "    </tr>\n",
       "    <tr>\n",
       "      <th>2</th>\n",
       "      <td>A32019</td>\n",
       "      <td>175 N Harvard St</td>\n",
       "      <td>42.363796</td>\n",
       "      <td>-71.129164</td>\n",
       "      <td>Boston</td>\n",
       "      <td>Yes</td>\n",
       "      <td>17</td>\n",
       "      <td>2014;;;</td>\n",
       "    </tr>\n",
       "    <tr>\n",
       "      <th>3</th>\n",
       "      <td>S32035</td>\n",
       "      <td>191 Beacon St</td>\n",
       "      <td>42.380323</td>\n",
       "      <td>-71.108786</td>\n",
       "      <td>Somerville</td>\n",
       "      <td>Yes</td>\n",
       "      <td>19</td>\n",
       "      <td>2018;;;</td>\n",
       "    </tr>\n",
       "    <tr>\n",
       "      <th>4</th>\n",
       "      <td>C32094</td>\n",
       "      <td>2 Hummingbird Lane at Olmsted Green</td>\n",
       "      <td>42.288870</td>\n",
       "      <td>-71.095003</td>\n",
       "      <td>Boston</td>\n",
       "      <td>Yes</td>\n",
       "      <td>17</td>\n",
       "      <td>2020;;;</td>\n",
       "    </tr>\n",
       "    <tr>\n",
       "      <th>...</th>\n",
       "      <td>...</td>\n",
       "      <td>...</td>\n",
       "      <td>...</td>\n",
       "      <td>...</td>\n",
       "      <td>...</td>\n",
       "      <td>...</td>\n",
       "      <td>...</td>\n",
       "      <td>...</td>\n",
       "    </tr>\n",
       "    <tr>\n",
       "      <th>443</th>\n",
       "      <td>N32005</td>\n",
       "      <td>West Newton</td>\n",
       "      <td>42.349601</td>\n",
       "      <td>-71.226275</td>\n",
       "      <td>Newton</td>\n",
       "      <td>Yes</td>\n",
       "      <td>14</td>\n",
       "      <td>2020;;;</td>\n",
       "    </tr>\n",
       "    <tr>\n",
       "      <th>444</th>\n",
       "      <td>A32043</td>\n",
       "      <td>Western Ave at Richardson St</td>\n",
       "      <td>42.361787</td>\n",
       "      <td>-71.143931</td>\n",
       "      <td>Boston</td>\n",
       "      <td>Yes</td>\n",
       "      <td>0</td>\n",
       "      <td>2019;;;</td>\n",
       "    </tr>\n",
       "    <tr>\n",
       "      <th>445</th>\n",
       "      <td>B32059</td>\n",
       "      <td>Whittier St Health Center</td>\n",
       "      <td>42.332863</td>\n",
       "      <td>-71.092189</td>\n",
       "      <td>Boston</td>\n",
       "      <td>Yes</td>\n",
       "      <td>19</td>\n",
       "      <td>2019;;;</td>\n",
       "    </tr>\n",
       "    <tr>\n",
       "      <th>446</th>\n",
       "      <td>D32040</td>\n",
       "      <td>Williams St at Washington St</td>\n",
       "      <td>42.306539</td>\n",
       "      <td>-71.107669</td>\n",
       "      <td>Boston</td>\n",
       "      <td>Yes</td>\n",
       "      <td>23</td>\n",
       "      <td>2018;;;</td>\n",
       "    </tr>\n",
       "    <tr>\n",
       "      <th>447</th>\n",
       "      <td>S32005</td>\n",
       "      <td>Wilson Square</td>\n",
       "      <td>42.385676</td>\n",
       "      <td>-71.114121</td>\n",
       "      <td>Somerville</td>\n",
       "      <td>Yes</td>\n",
       "      <td>15</td>\n",
       "      <td>2012;;;</td>\n",
       "    </tr>\n",
       "  </tbody>\n",
       "</table>\n",
       "<p>448 rows × 8 columns</p>\n",
       "</div>"
      ],
      "text/plain": [
       "     Number                                 Name   Latitude  Longitude  \\\n",
       "0    K32015                       1200 Beacon St  42.344149 -71.114674   \n",
       "1    W32006                          160 Arsenal  42.364664 -71.175694   \n",
       "2    A32019                     175 N Harvard St  42.363796 -71.129164   \n",
       "3    S32035                        191 Beacon St  42.380323 -71.108786   \n",
       "4    C32094  2 Hummingbird Lane at Olmsted Green  42.288870 -71.095003   \n",
       "..      ...                                  ...        ...        ...   \n",
       "443  N32005                          West Newton  42.349601 -71.226275   \n",
       "444  A32043         Western Ave at Richardson St  42.361787 -71.143931   \n",
       "445  B32059            Whittier St Health Center  42.332863 -71.092189   \n",
       "446  D32040         Williams St at Washington St  42.306539 -71.107669   \n",
       "447  S32005                        Wilson Square  42.385676 -71.114121   \n",
       "\n",
       "       District Public  Total docks Deployment Year;;;  \n",
       "0     Brookline    Yes           15            2021;;;  \n",
       "1     Watertown    Yes           11            2021;;;  \n",
       "2        Boston    Yes           17            2014;;;  \n",
       "3    Somerville    Yes           19            2018;;;  \n",
       "4        Boston    Yes           17            2020;;;  \n",
       "..          ...    ...          ...                ...  \n",
       "443      Newton    Yes           14            2020;;;  \n",
       "444      Boston    Yes            0            2019;;;  \n",
       "445      Boston    Yes           19            2019;;;  \n",
       "446      Boston    Yes           23            2018;;;  \n",
       "447  Somerville    Yes           15            2012;;;  \n",
       "\n",
       "[448 rows x 8 columns]"
      ]
     },
     "execution_count": 42,
     "metadata": {},
     "output_type": "execute_result"
    }
   ],
   "source": [
    "station_data"
   ]
  },
  {
   "cell_type": "markdown",
   "id": "7c069297-4e0f-40ff-ba9e-bdce92024f2c",
   "metadata": {},
   "source": [
    "#### 1.4.2 Formatting the data"
   ]
  },
  {
   "cell_type": "code",
   "execution_count": 43,
   "id": "faea200e-752b-43c1-b798-02bc36195c85",
   "metadata": {
    "scrolled": true
   },
   "outputs": [
    {
     "data": {
      "text/html": [
       "<div>\n",
       "<style scoped>\n",
       "    .dataframe tbody tr th:only-of-type {\n",
       "        vertical-align: middle;\n",
       "    }\n",
       "\n",
       "    .dataframe tbody tr th {\n",
       "        vertical-align: top;\n",
       "    }\n",
       "\n",
       "    .dataframe thead th {\n",
       "        text-align: right;\n",
       "    }\n",
       "</style>\n",
       "<table border=\"1\" class=\"dataframe\">\n",
       "  <thead>\n",
       "    <tr style=\"text-align: right;\">\n",
       "      <th></th>\n",
       "      <th>station_id</th>\n",
       "      <th>station_name</th>\n",
       "      <th>latitude</th>\n",
       "      <th>longitude</th>\n",
       "      <th>district</th>\n",
       "      <th>is_public</th>\n",
       "      <th>total_docks</th>\n",
       "      <th>deployment_year</th>\n",
       "    </tr>\n",
       "  </thead>\n",
       "  <tbody>\n",
       "    <tr>\n",
       "      <th>0</th>\n",
       "      <td>K32015</td>\n",
       "      <td>1200 Beacon St</td>\n",
       "      <td>42.344149</td>\n",
       "      <td>-71.114674</td>\n",
       "      <td>Brookline</td>\n",
       "      <td>Yes</td>\n",
       "      <td>15</td>\n",
       "      <td>2021</td>\n",
       "    </tr>\n",
       "    <tr>\n",
       "      <th>1</th>\n",
       "      <td>W32006</td>\n",
       "      <td>160 Arsenal</td>\n",
       "      <td>42.364664</td>\n",
       "      <td>-71.175694</td>\n",
       "      <td>Watertown</td>\n",
       "      <td>Yes</td>\n",
       "      <td>11</td>\n",
       "      <td>2021</td>\n",
       "    </tr>\n",
       "    <tr>\n",
       "      <th>2</th>\n",
       "      <td>A32019</td>\n",
       "      <td>175 N Harvard St</td>\n",
       "      <td>42.363796</td>\n",
       "      <td>-71.129164</td>\n",
       "      <td>Boston</td>\n",
       "      <td>Yes</td>\n",
       "      <td>17</td>\n",
       "      <td>2014</td>\n",
       "    </tr>\n",
       "    <tr>\n",
       "      <th>3</th>\n",
       "      <td>S32035</td>\n",
       "      <td>191 Beacon St</td>\n",
       "      <td>42.380323</td>\n",
       "      <td>-71.108786</td>\n",
       "      <td>Somerville</td>\n",
       "      <td>Yes</td>\n",
       "      <td>19</td>\n",
       "      <td>2018</td>\n",
       "    </tr>\n",
       "    <tr>\n",
       "      <th>4</th>\n",
       "      <td>C32094</td>\n",
       "      <td>2 Hummingbird Lane at Olmsted Green</td>\n",
       "      <td>42.288870</td>\n",
       "      <td>-71.095003</td>\n",
       "      <td>Boston</td>\n",
       "      <td>Yes</td>\n",
       "      <td>17</td>\n",
       "      <td>2020</td>\n",
       "    </tr>\n",
       "    <tr>\n",
       "      <th>...</th>\n",
       "      <td>...</td>\n",
       "      <td>...</td>\n",
       "      <td>...</td>\n",
       "      <td>...</td>\n",
       "      <td>...</td>\n",
       "      <td>...</td>\n",
       "      <td>...</td>\n",
       "      <td>...</td>\n",
       "    </tr>\n",
       "    <tr>\n",
       "      <th>443</th>\n",
       "      <td>N32005</td>\n",
       "      <td>West Newton</td>\n",
       "      <td>42.349601</td>\n",
       "      <td>-71.226275</td>\n",
       "      <td>Newton</td>\n",
       "      <td>Yes</td>\n",
       "      <td>14</td>\n",
       "      <td>2020</td>\n",
       "    </tr>\n",
       "    <tr>\n",
       "      <th>444</th>\n",
       "      <td>A32043</td>\n",
       "      <td>Western Ave at Richardson St</td>\n",
       "      <td>42.361787</td>\n",
       "      <td>-71.143931</td>\n",
       "      <td>Boston</td>\n",
       "      <td>Yes</td>\n",
       "      <td>0</td>\n",
       "      <td>2019</td>\n",
       "    </tr>\n",
       "    <tr>\n",
       "      <th>445</th>\n",
       "      <td>B32059</td>\n",
       "      <td>Whittier St Health Center</td>\n",
       "      <td>42.332863</td>\n",
       "      <td>-71.092189</td>\n",
       "      <td>Boston</td>\n",
       "      <td>Yes</td>\n",
       "      <td>19</td>\n",
       "      <td>2019</td>\n",
       "    </tr>\n",
       "    <tr>\n",
       "      <th>446</th>\n",
       "      <td>D32040</td>\n",
       "      <td>Williams St at Washington St</td>\n",
       "      <td>42.306539</td>\n",
       "      <td>-71.107669</td>\n",
       "      <td>Boston</td>\n",
       "      <td>Yes</td>\n",
       "      <td>23</td>\n",
       "      <td>2018</td>\n",
       "    </tr>\n",
       "    <tr>\n",
       "      <th>447</th>\n",
       "      <td>S32005</td>\n",
       "      <td>Wilson Square</td>\n",
       "      <td>42.385676</td>\n",
       "      <td>-71.114121</td>\n",
       "      <td>Somerville</td>\n",
       "      <td>Yes</td>\n",
       "      <td>15</td>\n",
       "      <td>2012</td>\n",
       "    </tr>\n",
       "  </tbody>\n",
       "</table>\n",
       "<p>448 rows × 8 columns</p>\n",
       "</div>"
      ],
      "text/plain": [
       "    station_id                         station_name   latitude  longitude  \\\n",
       "0       K32015                       1200 Beacon St  42.344149 -71.114674   \n",
       "1       W32006                          160 Arsenal  42.364664 -71.175694   \n",
       "2       A32019                     175 N Harvard St  42.363796 -71.129164   \n",
       "3       S32035                        191 Beacon St  42.380323 -71.108786   \n",
       "4       C32094  2 Hummingbird Lane at Olmsted Green  42.288870 -71.095003   \n",
       "..         ...                                  ...        ...        ...   \n",
       "443     N32005                          West Newton  42.349601 -71.226275   \n",
       "444     A32043         Western Ave at Richardson St  42.361787 -71.143931   \n",
       "445     B32059            Whittier St Health Center  42.332863 -71.092189   \n",
       "446     D32040         Williams St at Washington St  42.306539 -71.107669   \n",
       "447     S32005                        Wilson Square  42.385676 -71.114121   \n",
       "\n",
       "       district is_public  total_docks deployment_year  \n",
       "0     Brookline       Yes           15            2021  \n",
       "1     Watertown       Yes           11            2021  \n",
       "2        Boston       Yes           17            2014  \n",
       "3    Somerville       Yes           19            2018  \n",
       "4        Boston       Yes           17            2020  \n",
       "..          ...       ...          ...             ...  \n",
       "443      Newton       Yes           14            2020  \n",
       "444      Boston       Yes            0            2019  \n",
       "445      Boston       Yes           19            2019  \n",
       "446      Boston       Yes           23            2018  \n",
       "447  Somerville       Yes           15            2012  \n",
       "\n",
       "[448 rows x 8 columns]"
      ]
     },
     "execution_count": 43,
     "metadata": {},
     "output_type": "execute_result"
    }
   ],
   "source": [
    "station_data.rename(columns = {'Number':'station_id', \n",
    "                                'Name':'station_name', \n",
    "                                'Latitude':'latitude', \n",
    "                                'Longitude': 'longitude', \n",
    "                                'District' : 'district', \n",
    "                                'Public':'is_public', \n",
    "                                'Total docks' : 'total_docks', \n",
    "                                'Deployment Year;;;': 'deployment_year'\n",
    "                               }, inplace = True)\n",
    "\n",
    "station_data['deployment_year'] = station_data['deployment_year'].str.rstrip(';;;')\n",
    "station_data"
   ]
  },
  {
   "cell_type": "markdown",
   "id": "2b71f064",
   "metadata": {},
   "source": [
    "#### 1.4.3 Cleaning the data"
   ]
  },
  {
   "cell_type": "code",
   "execution_count": 44,
   "id": "cc5f0590",
   "metadata": {},
   "outputs": [
    {
     "data": {
      "text/plain": [
       "station_id         False\n",
       "station_name       False\n",
       "latitude           False\n",
       "longitude          False\n",
       "district            True\n",
       "is_public          False\n",
       "total_docks        False\n",
       "deployment_year    False\n",
       "dtype: bool"
      ]
     },
     "execution_count": 44,
     "metadata": {},
     "output_type": "execute_result"
    }
   ],
   "source": [
    "station_data.isnull().any()"
   ]
  },
  {
   "cell_type": "markdown",
   "id": "da2543a2",
   "metadata": {},
   "source": [
    "#### 1.4.4 Saving station data"
   ]
  },
  {
   "cell_type": "code",
   "execution_count": 45,
   "id": "272b25ea",
   "metadata": {},
   "outputs": [],
   "source": [
    "station_data.to_pickle(output_path+'station_data.pkl')"
   ]
  },
  {
   "cell_type": "markdown",
   "id": "f39ace57",
   "metadata": {},
   "source": [
    "As the district-data is irrelevant for us, there is no need to handle missing values. The station data is ready for further use here and we will pickle the dataframe. In 1.4.4 we combine the station data (i.e. the geographical coordinates that are provided for each station) with the trip data to allow for further analyses. The result will be called \"geo_data\"."
   ]
  },
  {
   "cell_type": "markdown",
   "id": "e810381b",
   "metadata": {},
   "source": [
    "#### 1.4.5 Combining trip_data and station_data"
   ]
  },
  {
   "cell_type": "markdown",
   "id": "df1da5e5",
   "metadata": {},
   "source": [
    "To link the station data to the trip data, we need to harmonize the station_ids by their station names, as both data sets use different ids. We decide to change the station_ids of the \"station_data\"."
   ]
  },
  {
   "cell_type": "code",
   "execution_count": 46,
   "id": "ddb1fd9e",
   "metadata": {},
   "outputs": [
    {
     "name": "stdout",
     "output_type": "stream",
     "text": [
      "190  station names of trip_data do not match the station names from station_data.\n"
     ]
    }
   ],
   "source": [
    "#check if values of station_name in trip_data and station_data are identical\n",
    "\n",
    "# create a list of the names of all stations in trip_data\n",
    "ids_trip = []\n",
    "ids_trip.extend(trip_data_clean['start_station_name'].unique())\n",
    "ids_trip.extend(trip_data_clean['end_station_name'].unique())\n",
    "list(set(ids_trip))\n",
    "\n",
    "# create a list of the names of all stations in station_data\n",
    "ids_station = []\n",
    "ids_station.extend(station_data['station_name'].unique())\n",
    "list(set(ids_station))\n",
    "\n",
    "# compare, if there are any differences\n",
    "diff = [x for x in ids_trip if x not in ids_station]\n",
    "print(len(diff),\" station names of trip_data do not match the station names from station_data.\")\n",
    "#print(diff)"
   ]
  },
  {
   "cell_type": "markdown",
   "id": "2114b217",
   "metadata": {},
   "source": [
    "We see that not all the names of stations match in the datasets. We iteratively match the names. We assume that the location did not change even though a name was changed slightly if it is listed in the station database by Bluebikes."
   ]
  },
  {
   "cell_type": "code",
   "execution_count": 47,
   "id": "7eb7a5b3",
   "metadata": {},
   "outputs": [],
   "source": [
    "#create a slice of the trip dataframe for further merging and drop duplicates\n",
    "trip_stations = trip_data_clean[['start_station_id','start_station_name']].drop_duplicates()"
   ]
  },
  {
   "cell_type": "markdown",
   "id": "e390d219",
   "metadata": {},
   "source": [
    "We assume that station locations did not change for station ids, even if they are assigned to multiple names (see 1.2.1 for justification)."
   ]
  },
  {
   "cell_type": "code",
   "execution_count": 48,
   "id": "7305720e",
   "metadata": {},
   "outputs": [],
   "source": [
    "def merge_trip_station(trip_df, stend=None):\n",
    "    \"\"\"\n",
    "    Method to create a dataframe of station_ids according to the trip_data-logic and \n",
    "    their according coordinates from station_data.\n",
    "    Input: trip_station dataframe\n",
    "    Output: Merged dataframe\n",
    "    \"\"\"\n",
    "    df = pd.merge(trip_df, station_data[['station_name']], \n",
    "                    left_on='start_station_name', right_on='station_name', how='left')\n",
    "    return df"
   ]
  },
  {
   "cell_type": "code",
   "execution_count": 49,
   "id": "77f444d0",
   "metadata": {},
   "outputs": [],
   "source": [
    "geo_data = merge_trip_station(trip_stations)"
   ]
  },
  {
   "cell_type": "code",
   "execution_count": 50,
   "id": "4135b45f",
   "metadata": {},
   "outputs": [
    {
     "name": "stdout",
     "output_type": "stream",
     "text": [
      "94 stations miss geographical data.\n"
     ]
    }
   ],
   "source": [
    "#check how many stations did not match\n",
    "print(\"%s stations miss geographical data.\" % geo_data.loc[geo_data.isna().any(axis=1),'start_station_name'].nunique())"
   ]
  },
  {
   "cell_type": "code",
   "execution_count": 51,
   "id": "af27f0d6",
   "metadata": {},
   "outputs": [],
   "source": [
    "#save list of station names that did not match to a list\n",
    "no_match = geo_data.loc[geo_data.isna().any(axis=1),'start_station_name'].unique().tolist()"
   ]
  },
  {
   "cell_type": "code",
   "execution_count": 52,
   "id": "011679b2",
   "metadata": {},
   "outputs": [],
   "source": [
    "def find_station_match(missing_list, full_list):\n",
    "    \"\"\"\n",
    "    Method to find the closest match of a station name in a list to the station name of another list.\n",
    "\n",
    "    Returns a dict.\n",
    "    \"\"\"\n",
    "    keys=[]\n",
    "    vals=[]\n",
    "    for i in range(0,len(missing_list)):\n",
    "        keys.append(missing_list[i])\n",
    "        match=difflib.get_close_matches(missing_list[i], full_list, n=1, cutoff=0.5)\n",
    "        if len(match) > 0:\n",
    "            vals.extend(match)\n",
    "        else:\n",
    "            vals.append(np.nan)\n",
    "    matches = dict(zip(keys,vals))\n",
    "    return matches"
   ]
  },
  {
   "cell_type": "code",
   "execution_count": 53,
   "id": "b8c31d77",
   "metadata": {},
   "outputs": [
    {
     "name": "stdout",
     "output_type": "stream",
     "text": [
      "'Coolidge Corner - Beacon St @ Centre St', --> Coolidge Corner - Beacon St at Centre St\n",
      "'Upham's Corner TEMPORARY WINTER LOCATION', --> nan\n",
      "'Boylston St at Arlington St TEMPORARY WINTER LOCATION', --> Boylston St at Dartmouth St\n",
      "'Charles Circle - Charles St at Cambridge St TEMPORARY WINTER LOCATION', --> Charles Circle - Charles St at Cambridge St\n",
      "'Boylston St at Washington St', --> Bacon St at Washington St\n",
      "'Brian P. Murphy Staircase at Child Street', --> Child Street at Brian P. Murphy Staircase\n",
      "'Prudential Center - Belvedere St', --> Prudential Center - 101 Huntington Ave\n",
      "'Inman Square at Vellucci Plaza / Hampshire St', --> Inman Square at Springfield St.\n",
      "'Columbus Ave at Massachusetts Ave', --> Boylston St at Massachusetts Ave\n",
      "'Sidney Research Campus/ Erie Street at Waverly', --> Sidney Research Campus/Erie Street at Waverly\n",
      "'Brookline Village - Station Street @ MBTA TEMPORARY WINTER LOCATION', --> Brookline Village - Station Street at MBTA\n",
      "'Beacon St at Arlington St', --> Bacon St at Washington St\n",
      "'Commonwealth Ave at Buick St', --> Commonwealth Ave At Babcock St\n",
      "'Washington Square at Washington St. / Beacon St. TEMPORARY WINTER LOCATION', --> Washington St @ New Washington St (Temp Winter Station)\n",
      "'Harvard University Gund Hall at Quincy St / Kirkland S', --> Harvard University Gund Hall at Quincy St / Kirkland St\n",
      "'Allston Green District - Griggs St at Commonwealth Ave TEMPORARY WINTER LOCATION', --> nan\n",
      "'University of Massachusetts Boston - Integrated Sciences Complex', --> University of Massachusetts Boston - Campus Center\n",
      "'Congress St at North St', --> Congress St at Northern Ave\n",
      "'Huron Ave. At Vassal Lane', --> Huron Ave At Vassal Lane\n",
      "'Dudley Square - Dudley St at Warren St', --> Copley Square - Dartmouth St at Boylston St\n",
      "'Central Square - East Boston', --> Central Square East Boston\n",
      "'Faneuil St at Market St', --> Faneuil St at Arlington St\n",
      "'18 Dorrance Warehouse', --> nan\n",
      "'Chelsea St at Saratoga St', --> Addison St at Saratoga St\n",
      "'Franklin Park - Seaver St at Humbolt Ave', --> Franklin Park - Seaver St at Humboldt Ave\n",
      "'Allston Green District - Griggs St at Commonwealth Ave', --> Deerfield St at Commonwealth Ave\n",
      "'Boylston St at Arlington St', --> Boylston St at Dartmouth St\n",
      "'Upham's Corner', --> Uphams Corner\n",
      "'Washington Square at Washington St. / Beacon St.', --> Washington St @ New Washington St (Temp Winter Station)\n",
      "'Brookline Village - Station Street @ MBTA', --> Brookline Village - Station Street at MBTA\n",
      "'TD Garden - West End Park', --> West End Park\n",
      "'Yawkey Way at Boylston St.', --> Mugar Way at Beacon St\n",
      "'Beacon St at Washington / Kirkland', --> Bacon St at Washington St\n",
      "'Packard Ave / Powderhouse Blvd', --> Packard Ave at Powderhouse Blvd\n",
      "'Charles St and Beacon St', --> Harvard St and Stedman St\n",
      "'Upham's Corner T Stop - Magnolia St at Dudley St', --> Uphams Corner T Stop - Magnolia St at Dudley St\n",
      "'Post Office Square - Pearl St at Milk St', --> Hayes Square - Vine St at Moulton St\n",
      "'Jersey St. at Boylston St.', --> Centre St at Washington St\n",
      "'Child St at North St', --> Clinton St at North St\n",
      "'8D OPS 01', --> nan\n",
      "'Brookline Village - Pearl Street at MBTA', --> Brookline Village - Station Street at MBTA\n",
      "'Somerville Hospital', --> Somerville City Hall\n",
      "'Washington St at Myrtle St', --> Washington St at Fuller St\n",
      "'Washington St at Bradlee St', --> Washington St at Brock St\n",
      "'Park Plaza at Columbus Ave', --> Park Plaza at Charles St S.\n",
      "'Broadway T Stop', --> W Broadway at D St\n",
      "'Deerfield St at Commonwealth Ave (former)', --> Deerfield St at Commonwealth Ave\n",
      "'Park Plaza at Charles St (former)', --> Park Plaza at Charles St S.\n",
      "'Washington St at Egremont Rd (former)', --> Washington St at Egremont Rd\n",
      "'Commonwealth Ave at Kelton St (former)', --> Commonwealth Ave at Kelton St\n",
      "'Blue Hill Ave at Southwood St (former)', --> Blue Hill Ave at Southwood St\n",
      "'Medford St at Charlestown BCYF (former)', --> Medford St at Charlestown BCYF\n",
      "'Centre St at Seaverns Ave (former)', --> Centre St at Seaverns Ave\n",
      "'Harvard St at Greene-Rose Heritage Park (former)', --> Harvard St at Greene-Rose Heritage Park\n",
      "'Mass Ave at Hadley/Walden (former)', --> Mass Ave at Hadley/Walden\n",
      "'Charlestown Navy Yard (former)', --> Charlestown Navy Yard\n",
      "'Boylston St at Jersey St (former)', --> Boylston St at Jersey St\n",
      "'Harvard Ave at Brainerd Rd (former)', --> Harvard Ave at Brainerd Rd\n",
      "'699 Mt Auburn St (former)', --> 699 Mt Auburn St\n",
      "'Archdale Rd at Washington St (former)', --> Archdale Rd at Washington St\n",
      "'Commonwealth Ave at Chiswick Rd (former)', --> Commonwealth Ave at Chiswick Rd\n",
      "'Main St at Thompson Sq (former)', --> Main St at Thompson Sq\n",
      "'Washington St at Myrtle St (former)', --> Washington St at Fuller St\n",
      "'Huntington Ave at Mass Art (former)', --> Huntington Ave at Mass Art\n",
      "'Columbia Rd at Tierney Community Center (former)', --> Columbia Rd at Tierney Community Center\n",
      "'Grove St at Community Path (former)', --> Grove St at Community Path\n",
      "'Roslindale Village - South St (former)', --> Roslindale Village - South St\n",
      "'Codman Square Library (former)', --> Codman Square Library\n",
      "'One Brigham Circle (former)', --> One Brigham Circle\n",
      "'Bartlett St at John Elliot Sq (former)', --> Bartlett St at John Elliot Sq\n",
      "'Cleveland Circle (former)', --> Cleveland Circle\n",
      "'Faneuil St at Arlington St (former)', --> Faneuil St at Arlington St\n",
      "'Bennington St at Constitution Beach (former)', --> Bennington St at Constitution Beach\n",
      "'Washington St at Talbot Ave (former)', --> Washington St at Talbot Ave\n",
      "'Mattapan Library (former)', --> Mattapan Library\n",
      "'Roslindale Village - Washington St (former)', --> Roslindale Village - Washington St\n",
      "'Broadway T Stop (former)', --> W Broadway at D St\n",
      "'Blue Hill Ave at Almont St (former)', --> Blue Hill Ave at Almont St\n",
      "'Thetford Ave at Norfolk St (former)', --> Thetford Ave at Norfolk St\n",
      "'Harrison Ave at Bennet St (former)', --> Harrison Ave at Bennet St\n",
      "'Morton St T (former)', --> Morton St T\n",
      "'Talbot Ave At Blue Hill Ave (former)', --> Talbot Ave At Blue Hill Ave\n",
      "'Mattapan T Stop (former)', --> Mattapan T Stop\n",
      "'Harrison Ave at Mullins Way (former)', --> Harrison Ave at Mullins Way\n",
      "'Tremont St at Northampton St (former)', --> Tremont St at Northampton St\n",
      "'30 Dane St. (former)', --> 30 Dane St\n",
      "'Vassal Lane at Tobin/VLUS (former)', --> Vassal Lane at Tobin/VLUS\n",
      "'30 Dane St.', --> 30 Dane St\n",
      "'Park Plaza at Charles St', --> Park Plaza at Charles St S.\n",
      "'8D QC Station 01', --> Chelsea Station\n",
      "'BCBS Quincy', --> Bowdoin St at Quincy St\n",
      "'BCBS Hingham', --> nan\n",
      "'Boston Public Market', --> Boylston St at Berkeley St\n",
      "'Tremont St at Hamilton Place', --> Tremont St at Hamilton Pl\n"
     ]
    }
   ],
   "source": [
    "#find the closest matches of the station names\n",
    "matches = find_station_match(no_match, ids_station)\n",
    "\n",
    "#control the dict if the mapping was right - use a loop for formatting/easier readability\n",
    "for k, v in matches.items():\n",
    "    print (\"'\"+k+\"',\", '-->', v)"
   ]
  },
  {
   "cell_type": "markdown",
   "id": "d6d70080",
   "metadata": {},
   "source": [
    "After manually checking for correctness we delete incorrect mappings. We assume that those stations do not exist anymore and we cannot reconstruct their coordinates."
   ]
  },
  {
   "cell_type": "code",
   "execution_count": 54,
   "id": "adb5047f",
   "metadata": {},
   "outputs": [],
   "source": [
    "matches['Uphams Corner TEMPORARY WINTER LOCATION']='Uphams Corner'\n",
    "\n",
    "still_missing = ['Boylston St at Arlington St TEMPORARY WINTER LOCATION',\n",
    "                'Boylston St at Washington St',\n",
    "                'Columbus Ave at Massachusetts Ave',\n",
    "                'Beacon St at Arlington St',\n",
    "                'Commonwealth Ave at Buick St',\n",
    "                'Washington Square at Washington St. / Beacon St. TEMPORARY WINTER LOCATION',\n",
    "                'Allston Green District - Griggs St at Commonwealth Ave TEMPORARY WINTER LOCATION',\n",
    "                'University of Massachusetts Boston - Integrated Sciences Complex',\n",
    "                'Congress St at North St',\n",
    "                'Dudley Square - Dudley St at Warren St',\n",
    "                'Faneuil St at Market St',\n",
    "                '18 Dorrance Warehouse',\n",
    "                'Chelsea St at Saratoga St',\n",
    "                'Allston Green District - Griggs St at Commonwealth Ave',\n",
    "                'Boylston St at Arlington St',\n",
    "                'Washington Square at Washington St. / Beacon St.',\n",
    "                'Yawkey Way at Boylston St.',\n",
    "                'Beacon St at Washington / Kirkland',\n",
    "                'Charles St and Beacon St',\n",
    "                'Post Office Square - Pearl St at Milk St',\n",
    "                'Jersey St. at Boylston St.',\n",
    "                'Child St at North St',\n",
    "                '8D OPS 01',\n",
    "                'Somerville Hospital',\n",
    "                'Washington St at Myrtle St',\n",
    "                'Washington St at Bradlee St',\n",
    "                'Broadway T Stop',\n",
    "                'Washington St at Myrtle St (former)',\n",
    "                'Broadway T Stop (former)',\n",
    "                'BCBS Quincy',\n",
    "                'BCBS Hingham',\n",
    "                'Boston Public Market']\n",
    "\n",
    "for m in still_missing:\n",
    "    del matches[m]"
   ]
  },
  {
   "cell_type": "code",
   "execution_count": 55,
   "id": "5076eb98",
   "metadata": {},
   "outputs": [],
   "source": [
    "#map names\n",
    "trip_stations_mapped = trip_stations.replace({'start_station_name':matches})\n",
    "trip_stations_mapped.rename(columns={'start_station_id':'station_id','start_station_name':'station_name'},inplace=True)\n",
    "trip_stations_mapped.drop_duplicates(subset='station_name', inplace=True)"
   ]
  },
  {
   "cell_type": "code",
   "execution_count": 56,
   "id": "f4cafccf",
   "metadata": {},
   "outputs": [],
   "source": [
    "def check_duplicates(df, col_name):\n",
    "    \"\"\"\n",
    "    Method to check if there are multiple names assigned to one station id.\n",
    "    Input:\n",
    "    df\n",
    "    col_name: str, name of the column that contains the station ids\n",
    "    Returns\n",
    "    None\n",
    "    \"\"\"\n",
    "    # get the id's that occur more than once\n",
    "    duplicate_ids = df[col_name].value_counts()[df[col_name].value_counts() > 1].index\n",
    "\n",
    "    # filter the DataFrame to only show rows with duplicate ids\n",
    "    df_duplicates = df[df[col_name].isin(duplicate_ids)].copy()\n",
    "    df_duplicates.sort_values(by=col_name, inplace=True)\n",
    "\n",
    "    # display the filtered DataFrame\n",
    "    print(df_duplicates)"
   ]
  },
  {
   "cell_type": "code",
   "execution_count": 57,
   "id": "ece75a88",
   "metadata": {},
   "outputs": [
    {
     "name": "stdout",
     "output_type": "stream",
     "text": [
      "        station_id                                       station_name\n",
      "1364467        120                            Beacon St at Charles St\n",
      "181775         120                           Charles St and Beacon St\n",
      "18             130                                                NaN\n",
      "167316         130                                      Uphams Corner\n",
      "175            193         Brookline Village - Station Street at MBTA\n",
      "264972         193                                Brookline Town Hall\n",
      "58             195          Child Street at Brian P. Murphy Staircase\n",
      "265298         195                               Child St at North St\n",
      "271633         219                        Boston East - 126 Border St\n",
      "5411           219                         Central Square East Boston\n",
      "893356         231                         Washington St at Myrtle St\n",
      "1365245        231                Washington St at Myrtle St (former)\n",
      "1343007        307                                    Broadway T Stop\n",
      "1371229        307                           Broadway T Stop (former)\n",
      "166922          42                        Boylston St at Arlington St\n",
      "33              42  Boylston St at Arlington St TEMPORARY WINTER L...\n",
      "264936          45                         Jersey St. at Boylston St.\n",
      "170151          45                         Yawkey Way at Boylston St.\n",
      "198             58                          Beacon St at Arlington St\n",
      "1365093         58                             Mugar Way at Beacon St\n",
      "166919          66  Allston Green District - Griggs St at Commonwe...\n",
      "396             66  Allston Green District - Griggs St at Commonwe...\n",
      "264975          81                                   Chinatown T Stop\n",
      "51              81                       Boylston St at Washington St\n",
      "265262          82                             Beacon St at Tappan St\n",
      "367             82  Washington Square at Washington St. / Beacon S...\n",
      "167633          82   Washington Square at Washington St. / Beacon St.\n",
      "265254           9                    Commonwealth Ave at Agganis Way\n",
      "211              9                       Commonwealth Ave at Buick St\n"
     ]
    }
   ],
   "source": [
    "check_duplicates(trip_stations_mapped, 'station_id')"
   ]
  },
  {
   "cell_type": "markdown",
   "id": "8e0c2e62",
   "metadata": {},
   "source": [
    "After replacing the station names, there are still double entries for some station ids. ´By merging on those double entries we extend our dataframe. This poses no problem: First, we map the station names of the trip data to the station data. All the station names of the trip data that still do not match any entries from the station data will not have correspending coordinates and therefore be dropped. This will reduce the number of trips that go into our station analysis by some degree, as we are lacking infos about some stations."
   ]
  },
  {
   "cell_type": "code",
   "execution_count": 58,
   "id": "aa0193ec",
   "metadata": {},
   "outputs": [],
   "source": [
    "def merge_trip_data_names(df, stend):\n",
    "    #replace station names of trip_data_clean by their id so they can be merged on station names from station_data\n",
    "    trip_data_mapped = pd.merge(df, trip_stations_mapped, left_on=stend+'_station_id', right_on='station_id', how='left')\n",
    "    trip_data_mapped[stend+'_station_name'] = trip_data_mapped['station_name']\n",
    "    trip_data_mapped.drop(['station_name','station_id'], axis=1, inplace=True)\n",
    "    return trip_data_mapped"
   ]
  },
  {
   "cell_type": "code",
   "execution_count": 59,
   "id": "8737b3b0",
   "metadata": {},
   "outputs": [],
   "source": [
    "# create new df with replaced names of start_stations\n",
    "trip_data_mapped_start = merge_trip_data_names(trip_data_clean, 'start')\n",
    "# also replace names of end_stations\n",
    "trip_data_mapped_full = merge_trip_data_names(trip_data_mapped_start, 'end')"
   ]
  },
  {
   "cell_type": "code",
   "execution_count": 60,
   "id": "33875a02",
   "metadata": {},
   "outputs": [],
   "source": [
    "def get_trip_coords(trip_df, stend):\n",
    "    \"\"\"\n",
    "    Method to create a dataframe of station_ids according to the trip_data-logic and \n",
    "    their according coordinates from station_data.\n",
    "    Input: trip_station dataframe\n",
    "            stend: string; 'start' or 'end' data to merge\n",
    "    Output: Merged dataframe\n",
    "    \"\"\"\n",
    "    #columns to keep from the left dataframe\n",
    "    trip_df_cols = ['start_time','end_time','start_station_name', 'end_station_name']\n",
    "    \n",
    "    #if we add coordinates to the end station, keep columns w/ coordinates from the start station\n",
    "    if stend == 'end':\n",
    "        trip_df_cols  = trip_df_cols + ['start_lat', 'start_lon']\n",
    "    \n",
    "    #create strings for new start/end columns\n",
    "    on_string = stend+'_station_name'\n",
    "    lat_string = stend+'_lat'\n",
    "    lon_string = stend+'_lon'\n",
    "    \n",
    "    #merge dataframes on station_names\n",
    "    df = pd.merge(trip_df[trip_df_cols], station_data[['station_name','latitude','longitude']], \n",
    "                    left_on=on_string, right_on='station_name', how='left')\n",
    "    \n",
    "    #rename columns to identify start/end coords\n",
    "    df.rename(columns={\"latitude\": lat_string,  \"longitude\": lon_string}, inplace=True)\n",
    "    df.drop('station_name', axis=1, inplace=True)\n",
    "    \n",
    "    return df"
   ]
  },
  {
   "cell_type": "code",
   "execution_count": 61,
   "id": "6d6d6a9a",
   "metadata": {},
   "outputs": [],
   "source": [
    "#add start coordinates to fully mapped trip data\n",
    "geo_data_start = get_trip_coords(trip_data_mapped_full, 'start')\n",
    "#add end coordinates to fully mapped trip data\n",
    "geo_data_full = get_trip_coords(geo_data_start, 'end')"
   ]
  },
  {
   "cell_type": "code",
   "execution_count": 62,
   "id": "bcb526ba",
   "metadata": {},
   "outputs": [
    {
     "data": {
      "text/html": [
       "<div>\n",
       "<style scoped>\n",
       "    .dataframe tbody tr th:only-of-type {\n",
       "        vertical-align: middle;\n",
       "    }\n",
       "\n",
       "    .dataframe tbody tr th {\n",
       "        vertical-align: top;\n",
       "    }\n",
       "\n",
       "    .dataframe thead th {\n",
       "        text-align: right;\n",
       "    }\n",
       "</style>\n",
       "<table border=\"1\" class=\"dataframe\">\n",
       "  <thead>\n",
       "    <tr style=\"text-align: right;\">\n",
       "      <th></th>\n",
       "      <th>start_time</th>\n",
       "      <th>end_time</th>\n",
       "      <th>start_station_name</th>\n",
       "      <th>end_station_name</th>\n",
       "      <th>start_lat</th>\n",
       "      <th>start_lon</th>\n",
       "      <th>end_lat</th>\n",
       "      <th>end_lon</th>\n",
       "    </tr>\n",
       "  </thead>\n",
       "  <tbody>\n",
       "    <tr>\n",
       "      <th>0</th>\n",
       "      <td>2018-01-01 00:16:33.000</td>\n",
       "      <td>2018-01-01 00:23:01.000</td>\n",
       "      <td>MIT Pacific St at Purrington St</td>\n",
       "      <td>Ames St at Main St</td>\n",
       "      <td>42.359573</td>\n",
       "      <td>-71.101295</td>\n",
       "      <td>42.362500</td>\n",
       "      <td>-71.088220</td>\n",
       "    </tr>\n",
       "    <tr>\n",
       "      <th>1</th>\n",
       "      <td>2018-01-01 00:42:00.000</td>\n",
       "      <td>2018-01-01 00:46:25.000</td>\n",
       "      <td>Union Square - Somerville</td>\n",
       "      <td>Cambridge Dept. of Public Works -147 Hampshire...</td>\n",
       "      <td>42.379648</td>\n",
       "      <td>-71.095405</td>\n",
       "      <td>42.371197</td>\n",
       "      <td>-71.097599</td>\n",
       "    </tr>\n",
       "    <tr>\n",
       "      <th>2</th>\n",
       "      <td>2018-01-01 00:42:44.000</td>\n",
       "      <td>2018-01-01 01:02:11.000</td>\n",
       "      <td>Back Bay T Stop - Dartmouth St at Stuart St</td>\n",
       "      <td>Central Sq Post Office / Cambridge City Hall a...</td>\n",
       "      <td>42.348074</td>\n",
       "      <td>-71.076570</td>\n",
       "      <td>42.366426</td>\n",
       "      <td>-71.105495</td>\n",
       "    </tr>\n",
       "    <tr>\n",
       "      <th>3</th>\n",
       "      <td>2018-01-01 00:56:50.000</td>\n",
       "      <td>2018-01-01 01:11:06.000</td>\n",
       "      <td>Coolidge Corner - Beacon St at Centre St</td>\n",
       "      <td>University Park</td>\n",
       "      <td>42.341598</td>\n",
       "      <td>-71.123338</td>\n",
       "      <td>42.362648</td>\n",
       "      <td>-71.100061</td>\n",
       "    </tr>\n",
       "    <tr>\n",
       "      <th>4</th>\n",
       "      <td>2018-01-01 01:07:54.000</td>\n",
       "      <td>2018-01-01 01:16:02.000</td>\n",
       "      <td>Tremont St at E Berkeley St</td>\n",
       "      <td>Christian Science Plaza - Massachusetts Ave at...</td>\n",
       "      <td>42.345392</td>\n",
       "      <td>-71.069616</td>\n",
       "      <td>42.343666</td>\n",
       "      <td>-71.085824</td>\n",
       "    </tr>\n",
       "    <tr>\n",
       "      <th>...</th>\n",
       "      <td>...</td>\n",
       "      <td>...</td>\n",
       "      <td>...</td>\n",
       "      <td>...</td>\n",
       "      <td>...</td>\n",
       "      <td>...</td>\n",
       "      <td>...</td>\n",
       "      <td>...</td>\n",
       "    </tr>\n",
       "    <tr>\n",
       "      <th>1990121</th>\n",
       "      <td>2018-12-31 23:48:46.706</td>\n",
       "      <td>2018-12-31 23:56:55.629</td>\n",
       "      <td>Park Dr at Buswell St</td>\n",
       "      <td>MIT Vassar St</td>\n",
       "      <td>42.347241</td>\n",
       "      <td>-71.105301</td>\n",
       "      <td>42.355601</td>\n",
       "      <td>-71.103945</td>\n",
       "    </tr>\n",
       "    <tr>\n",
       "      <th>1990122</th>\n",
       "      <td>2018-12-31 23:48:58.971</td>\n",
       "      <td>2019-01-01 03:13:49.512</td>\n",
       "      <td>Lewis Wharf at Atlantic Ave</td>\n",
       "      <td>Lewis Wharf at Atlantic Ave</td>\n",
       "      <td>42.363871</td>\n",
       "      <td>-71.050877</td>\n",
       "      <td>42.363871</td>\n",
       "      <td>-71.050877</td>\n",
       "    </tr>\n",
       "    <tr>\n",
       "      <th>1990123</th>\n",
       "      <td>2018-12-31 23:51:19.859</td>\n",
       "      <td>2019-01-01 00:17:15.741</td>\n",
       "      <td>Central Square at Mass Ave / Essex St</td>\n",
       "      <td>Central Square at Mass Ave / Essex St</td>\n",
       "      <td>42.365070</td>\n",
       "      <td>-71.103100</td>\n",
       "      <td>42.365070</td>\n",
       "      <td>-71.103100</td>\n",
       "    </tr>\n",
       "    <tr>\n",
       "      <th>1990124</th>\n",
       "      <td>2018-12-31 23:54:16.753</td>\n",
       "      <td>2018-12-31 23:57:17.965</td>\n",
       "      <td>Ring Rd</td>\n",
       "      <td>Copley Square - Dartmouth St at Boylston St</td>\n",
       "      <td>42.348278</td>\n",
       "      <td>-71.080449</td>\n",
       "      <td>42.349928</td>\n",
       "      <td>-71.077392</td>\n",
       "    </tr>\n",
       "    <tr>\n",
       "      <th>1990125</th>\n",
       "      <td>2018-12-31 23:54:38.885</td>\n",
       "      <td>2018-12-31 23:59:30.718</td>\n",
       "      <td>Ring Rd</td>\n",
       "      <td>Copley Square - Dartmouth St at Boylston St</td>\n",
       "      <td>42.348278</td>\n",
       "      <td>-71.080449</td>\n",
       "      <td>42.349928</td>\n",
       "      <td>-71.077392</td>\n",
       "    </tr>\n",
       "  </tbody>\n",
       "</table>\n",
       "<p>1990126 rows × 8 columns</p>\n",
       "</div>"
      ],
      "text/plain": [
       "                     start_time                end_time  \\\n",
       "0       2018-01-01 00:16:33.000 2018-01-01 00:23:01.000   \n",
       "1       2018-01-01 00:42:00.000 2018-01-01 00:46:25.000   \n",
       "2       2018-01-01 00:42:44.000 2018-01-01 01:02:11.000   \n",
       "3       2018-01-01 00:56:50.000 2018-01-01 01:11:06.000   \n",
       "4       2018-01-01 01:07:54.000 2018-01-01 01:16:02.000   \n",
       "...                         ...                     ...   \n",
       "1990121 2018-12-31 23:48:46.706 2018-12-31 23:56:55.629   \n",
       "1990122 2018-12-31 23:48:58.971 2019-01-01 03:13:49.512   \n",
       "1990123 2018-12-31 23:51:19.859 2019-01-01 00:17:15.741   \n",
       "1990124 2018-12-31 23:54:16.753 2018-12-31 23:57:17.965   \n",
       "1990125 2018-12-31 23:54:38.885 2018-12-31 23:59:30.718   \n",
       "\n",
       "                                  start_station_name  \\\n",
       "0                    MIT Pacific St at Purrington St   \n",
       "1                          Union Square - Somerville   \n",
       "2        Back Bay T Stop - Dartmouth St at Stuart St   \n",
       "3           Coolidge Corner - Beacon St at Centre St   \n",
       "4                        Tremont St at E Berkeley St   \n",
       "...                                              ...   \n",
       "1990121                        Park Dr at Buswell St   \n",
       "1990122                  Lewis Wharf at Atlantic Ave   \n",
       "1990123        Central Square at Mass Ave / Essex St   \n",
       "1990124                                      Ring Rd   \n",
       "1990125                                      Ring Rd   \n",
       "\n",
       "                                          end_station_name  start_lat  \\\n",
       "0                                       Ames St at Main St  42.359573   \n",
       "1        Cambridge Dept. of Public Works -147 Hampshire...  42.379648   \n",
       "2        Central Sq Post Office / Cambridge City Hall a...  42.348074   \n",
       "3                                          University Park  42.341598   \n",
       "4        Christian Science Plaza - Massachusetts Ave at...  42.345392   \n",
       "...                                                    ...        ...   \n",
       "1990121                                      MIT Vassar St  42.347241   \n",
       "1990122                        Lewis Wharf at Atlantic Ave  42.363871   \n",
       "1990123              Central Square at Mass Ave / Essex St  42.365070   \n",
       "1990124        Copley Square - Dartmouth St at Boylston St  42.348278   \n",
       "1990125        Copley Square - Dartmouth St at Boylston St  42.348278   \n",
       "\n",
       "         start_lon    end_lat    end_lon  \n",
       "0       -71.101295  42.362500 -71.088220  \n",
       "1       -71.095405  42.371197 -71.097599  \n",
       "2       -71.076570  42.366426 -71.105495  \n",
       "3       -71.123338  42.362648 -71.100061  \n",
       "4       -71.069616  42.343666 -71.085824  \n",
       "...            ...        ...        ...  \n",
       "1990121 -71.105301  42.355601 -71.103945  \n",
       "1990122 -71.050877  42.363871 -71.050877  \n",
       "1990123 -71.103100  42.365070 -71.103100  \n",
       "1990124 -71.080449  42.349928 -71.077392  \n",
       "1990125 -71.080449  42.349928 -71.077392  \n",
       "\n",
       "[1990126 rows x 8 columns]"
      ]
     },
     "execution_count": 62,
     "metadata": {},
     "output_type": "execute_result"
    }
   ],
   "source": [
    "geo_data_full"
   ]
  },
  {
   "cell_type": "code",
   "execution_count": 63,
   "id": "ede1ef35",
   "metadata": {},
   "outputs": [
    {
     "data": {
      "text/plain": [
       "1604519"
      ]
     },
     "execution_count": 63,
     "metadata": {},
     "output_type": "execute_result"
    }
   ],
   "source": [
    "#check how many rows of data will be left after removing trips that lack some information about coordinates\n",
    "geo_data_full.dropna().shape[0]"
   ]
  },
  {
   "cell_type": "code",
   "execution_count": 64,
   "id": "fe2d025c",
   "metadata": {},
   "outputs": [],
   "source": [
    "#drop if there are still values missing\n",
    "geo_data_clean = geo_data_full.dropna(how='any')"
   ]
  },
  {
   "cell_type": "code",
   "execution_count": 65,
   "id": "78730bdd",
   "metadata": {},
   "outputs": [
    {
     "name": "stdout",
     "output_type": "stream",
     "text": [
      "160647  trips are missing geographical data. That's  9.1 %\n"
     ]
    }
   ],
   "source": [
    "#check how many trips are missing\n",
    "abs_missing = trip_data_clean.shape[0]-geo_data_full.dropna().shape[0]\n",
    "rel_missing = round(abs_missing*100/trip_data_clean.shape[0],2)\n",
    "print(abs_missing,\" trips are missing geographical data. That's \",rel_missing,\"%\")"
   ]
  },
  {
   "cell_type": "markdown",
   "id": "93682ca2",
   "metadata": {},
   "source": [
    "While 9.1% of trips are missing for the geographical analysis, we expect that our data is still representative."
   ]
  },
  {
   "cell_type": "markdown",
   "id": "ecfd1b35-b36d-432e-b5c7-44e2dc9d796c",
   "metadata": {},
   "source": [
    "#### 1.4.6 Saving the data (geo_data)"
   ]
  },
  {
   "cell_type": "code",
   "execution_count": 66,
   "id": "d9dee435-fe8a-4edc-b2ea-911dd3d35954",
   "metadata": {},
   "outputs": [],
   "source": [
    "geo_data_clean.to_pickle(output_path+'geo_data.pkl')"
   ]
  }
 ],
 "metadata": {
  "kernelspec": {
   "display_name": "base",
   "language": "python",
   "name": "python3"
  },
  "language_info": {
   "codemirror_mode": {
    "name": "ipython",
    "version": 3
   },
   "file_extension": ".py",
   "mimetype": "text/x-python",
   "name": "python",
   "nbconvert_exporter": "python",
   "pygments_lexer": "ipython3",
   "version": "3.9.12 (main, Apr  4 2022, 05:22:27) [MSC v.1916 64 bit (AMD64)]"
  },
  "vscode": {
   "interpreter": {
    "hash": "293492b16c09546e33597c8e4a7b268ddec92aa7c5bc9ed2dfdbf2307fc10d27"
   }
  }
 },
 "nbformat": 4,
 "nbformat_minor": 5
}
