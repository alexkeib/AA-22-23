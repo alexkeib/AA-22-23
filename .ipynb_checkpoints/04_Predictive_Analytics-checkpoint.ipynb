{
 "cells": [
  {
   "cell_type": "markdown",
   "id": "c400f062",
   "metadata": {},
   "source": [
    "## 4. Predictive analytics"
   ]
  },
  {
   "cell_type": "markdown",
   "id": "827e6516",
   "metadata": {},
   "source": [
    "### 4.1 Import libraries and data"
   ]
  },
  {
   "cell_type": "raw",
   "id": "2b332228",
   "metadata": {},
   "source": [
    "#package to include is_holiday feature - switch to code and execute if package is missing\n",
    "pip install --upgrade holidays"
   ]
  },
  {
   "cell_type": "raw",
   "id": "c54d5a42",
   "metadata": {},
   "source": [
    "#install xgboost module\n",
    "pip install xgboost"
   ]
  },
  {
   "cell_type": "code",
   "execution_count": 1,
   "id": "ca7c8474",
   "metadata": {},
   "outputs": [],
   "source": [
    "import numpy as np\n",
    "import pandas as pd\n",
    "import matplotlib.pyplot as plt\n",
    "import seaborn as sns\n",
    "from datetime import date\n",
    "import holidays\n",
    "from sklearn.preprocessing import PolynomialFeatures\n",
    "from sklearn.model_selection import train_test_split\n",
    "from sklearn.linear_model import LinearRegression\n",
    "from sklearn.linear_model import Ridge\n",
    "from sklearn.tree import DecisionTreeRegressor\n",
    "from sklearn.metrics import r2_score, mean_absolute_error, mean_absolute_percentage_error\n",
    "import xgboost as xgb"
   ]
  },
  {
   "cell_type": "code",
   "execution_count": 2,
   "id": "0fd3fbda",
   "metadata": {},
   "outputs": [],
   "source": [
    "filepath = 'data/'"
   ]
  },
  {
   "cell_type": "code",
   "execution_count": 3,
   "id": "a72a4c5a",
   "metadata": {},
   "outputs": [],
   "source": [
    "trip_data = pd.read_pickle(filepath+'trip_data.pkl')\n",
    "weather_data = pd.read_pickle(filepath+'weather_data.pkl')\n",
    "station_data = pd.read_pickle(filepath+'station_data.pkl')\n",
    "#geo_data = pd.read_pickle(filepath+'geo_data.pkl')"
   ]
  },
  {
   "cell_type": "markdown",
   "id": "6706d60d",
   "metadata": {},
   "source": [
    "### 4.2 Data Prep for Regression"
   ]
  },
  {
   "cell_type": "markdown",
   "id": "67befc51",
   "metadata": {},
   "source": [
    "#### 4.2.1 Feature Engineering"
   ]
  },
  {
   "cell_type": "markdown",
   "id": "02949793",
   "metadata": {},
   "source": [
    "We use the weather data as a base dataframe because it already contains all datetimes. We will build upon that. We suspect that time and weather (tempereature and precip) is correlated with demand. We therefore construct our features around that."
   ]
  },
  {
   "cell_type": "code",
   "execution_count": 4,
   "id": "dea9c859",
   "metadata": {},
   "outputs": [],
   "source": [
    "data = weather_data.copy()"
   ]
  },
  {
   "cell_type": "markdown",
   "id": "298b0519",
   "metadata": {},
   "source": [
    "We will use the average temperature per hour as a feature and drop min/max temperatures later on."
   ]
  },
  {
   "cell_type": "code",
   "execution_count": 5,
   "id": "7079adbb",
   "metadata": {},
   "outputs": [],
   "source": [
    "data['temp'] = (data['max_temp']+data['min_temp'])/2"
   ]
  },
  {
   "cell_type": "markdown",
   "id": "e934be3a",
   "metadata": {},
   "source": [
    "Now we merge the trip data (aggregated by every hour) to our dataframe."
   ]
  },
  {
   "cell_type": "code",
   "execution_count": 6,
   "id": "b2772c92",
   "metadata": {},
   "outputs": [],
   "source": [
    "#aggregate hourly demand from our trip data\n",
    "demand = trip_data.groupby(pd.Grouper(key='start_time', freq='H')).agg({'duration':'count'})\n",
    "demand.rename(columns={'duration':'demand'}, inplace=True)\n",
    "#add hourly demand to our data\n",
    "data = pd.merge(data, demand, left_on='date_time', right_on=demand.index, how='left')"
   ]
  },
  {
   "cell_type": "markdown",
   "id": "344a4eec",
   "metadata": {},
   "source": [
    "We add datetime data as features to our data."
   ]
  },
  {
   "cell_type": "code",
   "execution_count": 7,
   "id": "c72de03a",
   "metadata": {},
   "outputs": [],
   "source": [
    "# start hour = absolute hour within the a day (0-23h)\n",
    "data['hour'] = pd.DatetimeIndex(data['date_time']).hour\n",
    "\n",
    "# weekday = day within a single week (values 0-6, where 0 = monday)\n",
    "data['weekday'] = pd.DatetimeIndex(data['date_time']).weekday\n",
    "\n",
    "# number of the month (1-12, where 1 = January)\n",
    "data['month'] = pd.DatetimeIndex(data['date_time']).month"
   ]
  },
  {
   "cell_type": "markdown",
   "id": "5d6dd6f5",
   "metadata": {},
   "source": [
    "Because timedata is circular, we transform hour, weekday and month into sin/cos values for higher accuracy in our linear model. (\"cyclical feature encoding\", see https://towardsdatascience.com/cyclical-features-encoding-its-about-time-ce23581845ca for theory behind that). As our other models need one single value for each feature, we will keep the linear values for them."
   ]
  },
  {
   "cell_type": "code",
   "execution_count": 8,
   "id": "dc394bca",
   "metadata": {},
   "outputs": [],
   "source": [
    "def encode_cyclical_data(df, col, max_val):\n",
    "    df[col + '_sin'] = np.sin(2 * np.pi * data[col]/max_val)\n",
    "    df[col + '_cos'] = np.cos(2 * np.pi * data[col]/max_val)\n",
    "    return df"
   ]
  },
  {
   "cell_type": "code",
   "execution_count": 9,
   "id": "69b2138a",
   "metadata": {},
   "outputs": [],
   "source": [
    "data = encode_cyclical_data(data, 'hour', 24)\n",
    "data = encode_cyclical_data(data, 'weekday', 7)\n",
    "data = encode_cyclical_data(data, 'month', 12)"
   ]
  },
  {
   "cell_type": "markdown",
   "id": "c0a4f229",
   "metadata": {},
   "source": [
    "We add 'is_weekend' as a feature."
   ]
  },
  {
   "cell_type": "code",
   "execution_count": 10,
   "id": "fb191f82",
   "metadata": {},
   "outputs": [],
   "source": [
    "data['is_weekend'] = data['weekday'].apply(lambda x: 0 if x < 5 else 1)"
   ]
  },
  {
   "cell_type": "markdown",
   "id": "91c46c5f",
   "metadata": {},
   "source": [
    "As we already did in the clustering part, we add public holidays in Massachusetts as a feature."
   ]
  },
  {
   "cell_type": "code",
   "execution_count": 11,
   "id": "a805c024",
   "metadata": {},
   "outputs": [],
   "source": [
    "#create dict with holidays\n",
    "ma_holidays = holidays.country_holidays('US', subdiv='MA')\n",
    "\n",
    "#add binary variable if date is public holiday\n",
    "data['is_holiday'] = data['date_time'].apply(lambda x: 1 if x in ma_holidays else 0)"
   ]
  },
  {
   "cell_type": "markdown",
   "id": "4cd07ce0",
   "metadata": {},
   "source": [
    "Set categorical features (time & binary data) as category."
   ]
  },
  {
   "cell_type": "code",
   "execution_count": 12,
   "id": "aec08ea2",
   "metadata": {},
   "outputs": [],
   "source": [
    "def set_category(df, features):\n",
    "    for f in features:\n",
    "        df[f] = df[f].astype('category')\n",
    "    return df"
   ]
  },
  {
   "cell_type": "code",
   "execution_count": 13,
   "id": "b3d3e364",
   "metadata": {},
   "outputs": [],
   "source": [
    "cat_features = ['hour', 'weekday', 'month', 'is_weekend','is_holiday']\n",
    "data = set_category(data, cat_features)"
   ]
  },
  {
   "cell_type": "markdown",
   "id": "d303720a",
   "metadata": {},
   "source": [
    "Drop irrelevant columns."
   ]
  },
  {
   "cell_type": "code",
   "execution_count": 14,
   "id": "6652b113",
   "metadata": {},
   "outputs": [],
   "source": [
    "data.drop(columns=['date_time','max_temp','min_temp'], inplace=True)"
   ]
  },
  {
   "cell_type": "markdown",
   "id": "933d3130",
   "metadata": {},
   "source": [
    "### 4.3 Model Building"
   ]
  },
  {
   "cell_type": "markdown",
   "id": "baaab02a",
   "metadata": {},
   "source": [
    "Our ideas which algorithms to use:\n",
    "- One algorithm w/ good \"explainability\" of how features affect the outcome: polynomial regression. drawback: computiationally very expensive and therefore slow.\n",
    "- Decision Tree Regression for speed\n",
    "- Gradient Tree Boosting as a boosting method for speed and because it finds its own hyperparameters. A potential drawback might be overfitting.\n",
    "\n",
    "Our evaluation metrics are R² (how much is the model able to explain) as well as MAE to show absolute deviations of the predicted to the actual values. MAE is advantageous in our use case because it treats positive and negative errors equally, and the result is always non-negative. This gives a better sense of the magnitude of the errors, regardless of their direction and is not as sensitive to outliers. It would be beneficial to add another metric such as MAPE to give better insights into the performance of the models, but we have a substantial amount of outcome variables that equal to zero and therefore creates arbitrarily high values for MAPE."
   ]
  },
  {
   "cell_type": "code",
   "execution_count": 15,
   "id": "125ff9b1",
   "metadata": {},
   "outputs": [
    {
     "data": {
      "text/plain": [
       "136"
      ]
     },
     "execution_count": 15,
     "metadata": {},
     "output_type": "execute_result"
    }
   ],
   "source": [
    "#check if we can use MAPE as a metric to evaluate our models\n",
    "len(data.loc[(data['demand']==0)])"
   ]
  },
  {
   "cell_type": "markdown",
   "id": "cc86c46b",
   "metadata": {},
   "source": [
    "#### 4.3.1 Train-Test-Split"
   ]
  },
  {
   "cell_type": "markdown",
   "id": "ff724d81",
   "metadata": {},
   "source": [
    "Now we make a train/test split for cross-validation. We train our models on 70% of the data and evaluate the performance on 30% of the data. While we have timeseries data, we will not use a timeseries split (e.g. by using the function \"temporal_train_test_split()\" or adding parameter \"shuffle=False\") because we have seasonality in our data that we cannot capture if we split the last weeks/months into the test set."
   ]
  },
  {
   "cell_type": "code",
   "execution_count": 16,
   "id": "f43e92da",
   "metadata": {},
   "outputs": [],
   "source": [
    "#create a list of features for the train test split\n",
    "features = data.columns.tolist()\n",
    "features.remove('demand')"
   ]
  },
  {
   "cell_type": "code",
   "execution_count": 17,
   "id": "65618398",
   "metadata": {},
   "outputs": [],
   "source": [
    "Xtrain, Xtest, ytrain, ytest = train_test_split(data[features], data['demand'], test_size=0.3, random_state=7)"
   ]
  },
  {
   "cell_type": "code",
   "execution_count": 18,
   "id": "03a6001b",
   "metadata": {},
   "outputs": [],
   "source": [
    "def drop_cols(df, dropcols):\n",
    "    \"\"\"\n",
    "    Method to drop columns in a dataframe as we do not need all features for all prediction methods.\n",
    "    Input: df, dropcols (list)\n",
    "    Returns: df\n",
    "    \"\"\"\n",
    "    df_clean = df.drop(columns=dropcols)\n",
    "    return df_clean"
   ]
  },
  {
   "cell_type": "markdown",
   "id": "c1231661",
   "metadata": {},
   "source": [
    "#### 4.3.2 Regression Algorithm 1: Polynomial Regression"
   ]
  },
  {
   "cell_type": "markdown",
   "id": "2cf361b0",
   "metadata": {},
   "source": [
    "We additionaly use ridge regularization to avoid overfitting. We chose ridge over lasso regularization because we do not have many features. Ridge is also better to suited if there are correlated features. Because our data only consists of date, time and weather data this is most likely the case. For both the polynomial regression and the ridge regression we use a grid search approach to find model hyperparameters (number of polynomials and lambda respectively)."
   ]
  },
  {
   "cell_type": "code",
   "execution_count": 19,
   "id": "044c7f7e",
   "metadata": {},
   "outputs": [],
   "source": [
    "def run_poly_regression(X_train, X_test, y_train, y_test, pmax, lam=0, final=False):\n",
    "    \"\"\"\n",
    "    Method to run polynomial regression and plot the data.\n",
    "    Input: X_train, y_train, X_test, y_test, pmax (int), lam (float), \n",
    "        final (bln): set True to return coefficients of the regression - not intended to work when iterating through polynomials.\n",
    "    Returns: None\n",
    "    \"\"\"\n",
    "    #remove linear timedata because we use sin/cos values for linear regression\n",
    "    dropcols = ['hour','weekday','month']\n",
    "    X_train = drop_cols(X_train, dropcols)\n",
    "    X_test = drop_cols(X_test, dropcols)\n",
    "    \n",
    "    r2_list = []\n",
    "    mae_train = []\n",
    "    mae_test = []\n",
    "    \n",
    "    #iterate through a range of possible p-values if lambda for ridge regression is not passed\n",
    "    #if lambda is passed: final model will be built\n",
    "    if final == False:\n",
    "        polynomials = [*range(1,pmax)]\n",
    "    else:\n",
    "        polynomials = [pmax]\n",
    "    \n",
    "    for p in polynomials:    \n",
    "        # fit the model on the training data\n",
    "        poly_reg = PolynomialFeatures(degree = p)\n",
    "        x_poly_train = poly_reg.fit_transform(X_train)\n",
    "        x_poly_test = poly_reg.fit_transform(X_test)\n",
    "        \n",
    "        model = Ridge(alpha=lam, normalize=True, solver='lsqr')\n",
    "        model.fit(x_poly_train, y_train)\n",
    "\n",
    "        # evaluate the model on the train data\n",
    "        train_pred = model.predict(x_poly_train)\n",
    "        # evaluate the model on the test data\n",
    "        test_pred = model.predict(x_poly_test)\n",
    "    \n",
    "        #calculate R² & MAE for evaluation of train & test performance\n",
    "        r2_list.append(r2_score(y_test, test_pred))\n",
    "        mae_train.append(mean_absolute_error(y_train, train_pred))\n",
    "        mae_test.append(mean_absolute_error(y_test, test_pred))\n",
    "        \n",
    "    #plot graph only when we iterate through polynomials\n",
    "    if final == False:\n",
    "        # plot the data\n",
    "        plt.semilogy(polynomials, mae_train, polynomials,mae_test)\n",
    "        plt.legend(['Training Data', 'Validation Data'])\n",
    "        plt.xlabel('Polynomial Degree')\n",
    "        plt.ylabel('Mean absolute error (MAE)')\n",
    "        plt.show()\n",
    "    \n",
    "    #print metrics\n",
    "    #correct the value that is printed for the polynomial degree for final view\n",
    "    if final == True:\n",
    "        p_print = str(pmax)\n",
    "    else:\n",
    "        p_print = str(np.argmin(mae_test)+1)\n",
    "    \n",
    "    print(\"Best performance in the test data (metric: MAE test):\"\n",
    "        + \"\\nPolynominal degree: \" + p_print \n",
    "        + \"\\nR²: \" + str(round(r2_list[np.argmin(mae_test)],3)) \n",
    "        + \"\\nMAE (train): \" + str(round(mae_train[np.argmin(mae_test)],3))  \n",
    "        + \"\\nMAE (test): \" + str(round(mae_test[np.argmin(mae_test)],3))  \n",
    "    )\n",
    "    \n",
    "    #print coefficients when we have our final hyperparameters\n",
    "    if final == True:\n",
    "        print(\"Features: \" + str(X_test.columns)\n",
    "              +\"\\nCoefficients: \" + str(model.coef_)\n",
    "              +\"\\nIntercept: \" + str(model.intercept_)\n",
    "             )\n",
    "        \n",
    "    return None"
   ]
  },
  {
   "cell_type": "code",
   "execution_count": 20,
   "id": "097ce201",
   "metadata": {},
   "outputs": [],
   "source": [
    "def run_ridge_regression(X_train, X_test, y_train, y_test, p):\n",
    "    #remove linear timedata because we use sin/cos values for linear regression\n",
    "    dropcols = ['hour','weekday','month']\n",
    "    X_train = drop_cols(X_train, dropcols)\n",
    "    X_test = drop_cols(X_test, dropcols)\n",
    "    \n",
    "    poly_reg = PolynomialFeatures(degree = p)\n",
    "    x_poly_train = poly_reg.fit_transform(X_train)\n",
    "    x_poly_test = poly_reg.fit_transform(X_test)\n",
    "    \n",
    "    \n",
    "    #(consider that higher ranges for lambda might cause a memory error)\n",
    "    lam = np.logspace(0, 20, 40)\n",
    "    \n",
    "    lam_list = []\n",
    "    mae_train = []\n",
    "    mae_test = []\n",
    "\n",
    "    for l in lam:\n",
    "        #we set copy_X=False for performance reasons; otherwise we get a memory error.\n",
    "        model_L2 = Ridge(alpha=l, normalize=True, solver='lsqr', copy_X=False)\n",
    "        model_L2.fit(x_poly_train, y_train)\n",
    "        \n",
    "        # evaluate the model on the train data\n",
    "        train_pred = model_L2.predict(x_poly_train)\n",
    "        # evaluate the model on the test data\n",
    "        test_pred = model_L2.predict(x_poly_test)\n",
    "\n",
    "        #calculate MAE for evaluation of train & test performance\n",
    "        lam_list.append(l)\n",
    "        mae_train.append(mean_absolute_error(y_train, train_pred))\n",
    "        mae_test.append(mean_absolute_error(y_test, test_pred))\n",
    "    \n",
    "    plt.loglog(lam, mae_train, lam, mae_test)\n",
    "    plt.legend(['Training Data', 'Validation Data'])\n",
    "    plt.xlabel('Regularization parameter $\\lambda$')\n",
    "    plt.ylabel('Mean absolute error')\n",
    "    \n",
    "    print(\"Best performance in the test data (metric: MAE test):\"\n",
    "        + \"\\nLambda: \" + str(lam_list[np.argmin(mae_test)+1]) \n",
    "        + \"\\nMAE (train): \" + str(round(mae_train[np.argmin(mae_test)],3))  \n",
    "        + \"\\nMAE (test): \" + str(round(mae_test[np.argmin(mae_test)],3))  \n",
    "    )\n",
    "\n",
    "    return None"
   ]
  },
  {
   "cell_type": "markdown",
   "id": "396caf0d",
   "metadata": {},
   "source": [
    "We limit the number of polynomials to iterate through to a number of 9 (while we have 10 features), as higher numbers get computiationally more and more expensive and cause memory errors. Additionally, overfitting gets less likely."
   ]
  },
  {
   "cell_type": "code",
   "execution_count": 21,
   "id": "c244336a",
   "metadata": {
    "scrolled": true
   },
   "outputs": [
    {
     "data": {
      "image/png": "[encoded data removed]",
      "text/plain": [
       "<Figure size 432x288 with 1 Axes>"
      ]
     },
     "metadata": {
      "needs_background": "light"
     },
     "output_type": "display_data"
    },
    {
     "name": "stdout",
     "output_type": "stream",
     "text": [
      "Best performance in the test data (metric: MAE test):\n",
      "Polynominal degree: 9\n",
      "R²: 0.9\n",
      "MAE (train): 31.226\n",
      "MAE (test): 45.091\n"
     ]
    }
   ],
   "source": [
    "run_poly_regression(Xtrain, Xtest, ytrain, ytest, 10, 0)"
   ]
  },
  {
   "cell_type": "markdown",
   "id": "9caf68b9",
   "metadata": {},
   "source": [
    "We decide that 6 polynomials give a great trade-off in performance and to avoid overfitting."
   ]
  },
  {
   "cell_type": "markdown",
   "id": "028e0c1a",
   "metadata": {},
   "source": [
    "As it is computationally expensive to compute the optimal lambda, we only compute 10 iterations in the logspace."
   ]
  },
  {
   "cell_type": "code",
   "execution_count": 22,
   "id": "19fe786a",
   "metadata": {
    "scrolled": true
   },
   "outputs": [
    {
     "name": "stdout",
     "output_type": "stream",
     "text": [
      "Best performance in the test data (metric: MAE test):\n",
      "Lambda: 3.257020655659783\n",
      "MAE (train): 161.605\n",
      "MAE (test): 52.457\n"
     ]
    },
    {
     "data": {
      "image/png": "[encoded data removed]",
      "text/plain": [
       "<Figure size 432x288 with 1 Axes>"
      ]
     },
     "metadata": {
      "needs_background": "light"
     },
     "output_type": "display_data"
    }
   ],
   "source": [
    "run_ridge_regression(Xtrain, Xtest, ytrain, ytest, 6)"
   ]
  },
  {
   "cell_type": "markdown",
   "id": "f2915037",
   "metadata": {},
   "source": [
    "The best trade-off on training and test performance is for lambda=0, i.e. no ridge regularization. We conclude that our polynomial regression benefits more from the polynomials than from the regularization term. "
   ]
  },
  {
   "cell_type": "markdown",
   "id": "e9459256",
   "metadata": {},
   "source": [
    "We run a final regression with our hyperparameters p=9 and lambda=0 to get the intercept and coefficients. This allows us to interpret the relationships of the features on the outcome."
   ]
  },
  {
   "cell_type": "code",
   "execution_count": 23,
   "id": "361f8efe",
   "metadata": {},
   "outputs": [
    {
     "name": "stdout",
     "output_type": "stream",
     "text": [
      "Best performance in the test data (metric: MAE test):\n",
      "Polynominal degree: 6\n",
      "R²: 0.895\n",
      "MAE (train): 42.121\n",
      "MAE (test): 49.822\n",
      "Features: Index(['precip', 'temp', 'hour_sin', 'hour_cos', 'weekday_sin', 'weekday_cos',\n",
      "       'month_sin', 'month_cos', 'is_weekend', 'is_holiday'],\n",
      "      dtype='object')\n",
      "Coefficients: [ 0.         -2.2405066   0.47817678 ... -0.93239365 -0.93239365\n",
      " -0.6285511 ]\n",
      "Intercept: 159.2794755783374\n"
     ]
    }
   ],
   "source": [
    "run_poly_regression(Xtrain, Xtest, ytrain, ytest, 6, 0, final=True)"
   ]
  },
  {
   "cell_type": "markdown",
   "id": "53752213",
   "metadata": {},
   "source": [
    "#### 4.3.3 Regression Algorithm 2: Decision Tree"
   ]
  },
  {
   "cell_type": "code",
   "execution_count": 24,
   "id": "07f04fb2",
   "metadata": {},
   "outputs": [],
   "source": [
    "def run_decision_tree(X_train, X_test, y_train, y_test, d_max):\n",
    "    \"\"\"\n",
    "    Method to run polynomial regression and plot the data.\n",
    "    Input: X_train, y_train, X_test, y_test, pmax, lam\n",
    "    Returns: None\n",
    "    \"\"\"\n",
    "    #delete sin/cos columns\n",
    "    dropcols = ['hour_sin','hour_cos','weekday_sin','weekday_cos','month_sin','month_cos']\n",
    "    X_train = drop_cols(X_train, dropcols)\n",
    "    X_test = drop_cols(X_test, dropcols)\n",
    "    \n",
    "    r2_list = []\n",
    "    mae_train = []\n",
    "    mae_test = []\n",
    "    nodes = []\n",
    "    leaves = []\n",
    "    depth = []\n",
    "    \n",
    "    for d in range(1,d_max):\n",
    "        # fit regression model\n",
    "        tree_reg = DecisionTreeRegressor(max_depth=d, criterion=\"mae\")\n",
    "        tree_reg.fit(X_train, y_train)\n",
    "\n",
    "        # predict\n",
    "        train_pred = tree_reg.predict(X_train)\n",
    "        test_pred = tree_reg.predict(X_test)\n",
    "\n",
    "        #calculate R² & MAE for evaluation of train & test performance\n",
    "        r2_list.append(r2_score(y_test, test_pred))\n",
    "        mae_train.append(mean_absolute_error(y_train, train_pred))\n",
    "        mae_test.append(mean_absolute_error(y_test, test_pred))\n",
    "        \n",
    "        #save attributes for comparison\n",
    "        nodes.append(tree_reg.tree_.node_count)\n",
    "        leaves.append(tree_reg.tree_.n_leaves)\n",
    "        depth.append(d)\n",
    "    \n",
    "    # plot the data\n",
    "    plt.semilogy(range(1,d_max), mae_train, range(1,d_max),mae_test)\n",
    "    plt.legend(['Training Data', 'Validation Data'])\n",
    "    plt.xlabel('Max. Tree Depth')\n",
    "    plt.ylabel('Mean absolute error (MAE)')\n",
    "    plt.show()\n",
    "    print(\"Best performance in the test data (metric: MAE test):\"\n",
    "        + \"\\nTree depth: \" + str(depth[np.argmin(mae_test)])\n",
    "        + \"\\nnumber of nodes: \" + str(nodes[np.argmin(mae_test)])\n",
    "        + \"\\nnumber of leafs: \" + str(leaves[np.argmin(mae_test)])\n",
    "        + \"\\nR²: \" + str(round(r2_list[np.argmin(mae_test)],3)) \n",
    "        + \"\\nMAE (train): \" + str(round(mae_train[np.argmin(mae_test)],3)) \n",
    "        + \"\\nMAE (test): \" + str(round(mae_test[np.argmin(mae_test)],3)) \n",
    "        )\n",
    "    return None"
   ]
  },
  {
   "cell_type": "code",
   "execution_count": 25,
   "id": "3feb7de4",
   "metadata": {
    "scrolled": true
   },
   "outputs": [
    {
     "data": {
      "image/png": "[encoded data removed]",
      "text/plain": [
       "<Figure size 432x288 with 1 Axes>"
      ]
     },
     "metadata": {
      "needs_background": "light"
     },
     "output_type": "display_data"
    },
    {
     "name": "stdout",
     "output_type": "stream",
     "text": [
      "Best performance in the test data (metric: MAE test):\n",
      "Tree depth: 13\n",
      "number of nodes: 4387\n",
      "number of leafs: 2194\n",
      "R²: 0.858\n",
      "MAE (train): 23.023\n",
      "MAE (test): 46.467\n"
     ]
    }
   ],
   "source": [
    "run_decision_tree(Xtrain, Xtest, ytrain, ytest, 30)"
   ]
  },
  {
   "cell_type": "markdown",
   "id": "92e71e79",
   "metadata": {},
   "source": [
    "Decision Tree is obviously much faster than poly regression, however the prediction performance poses a trade-off for speed."
   ]
  },
  {
   "cell_type": "markdown",
   "id": "89e6cc3f",
   "metadata": {},
   "source": [
    "#### 4.3.4 Regression Algorithm 3: Gradient Tree Boosting"
   ]
  },
  {
   "cell_type": "code",
   "execution_count": 26,
   "id": "69ceb7a6",
   "metadata": {},
   "outputs": [],
   "source": [
    "def change_dtypes(df):\n",
    "    column_types = {'precip': float, 'temp': float, 'hour': int, 'weekday': int, 'month': int, 'is_weekend': bool, 'is_holiday': bool}\n",
    "    df = df.astype(column_types)\n",
    "    return df"
   ]
  },
  {
   "cell_type": "code",
   "execution_count": 27,
   "id": "b34f580f",
   "metadata": {},
   "outputs": [],
   "source": [
    "def run_xgb(X_train, X_test, y_train, y_test):\n",
    "    #delete sin/cos columns\n",
    "    dropcols = ['hour_sin','hour_cos','weekday_sin','weekday_cos','month_sin','month_cos']\n",
    "    X_train = drop_cols(X_train, dropcols)\n",
    "    X_test = drop_cols(X_test, dropcols)\n",
    "    \n",
    "    #as XGBoost does not allow categorical values, we change the dtypes accordingly\n",
    "    X_train = change_dtypes(X_train)\n",
    "    X_test = change_dtypes(X_test)\n",
    "\n",
    "    #run model\n",
    "    model = xgb.XGBRegressor()\n",
    "    model.fit(X_train, y_train)\n",
    "    \n",
    "    train_pred = model.predict(X_train)\n",
    "    test_pred = model.predict(X_test)\n",
    "    \n",
    "    r2 = r2_score(y_test, test_pred)\n",
    "    mae_train = mean_absolute_error(y_train, train_pred)\n",
    "    mae_test = mean_absolute_error(y_test, test_pred)\n",
    "    \n",
    "    print(\"R²: \" + str(r2)\n",
    "        + \"\\nMAE (train): \" + str(round(mae_train,3)) \n",
    "        + \"\\nMAE (test): \" + str(round(mae_test,3))\n",
    "         )\n",
    "    return None"
   ]
  },
  {
   "cell_type": "code",
   "execution_count": 28,
   "id": "cb9d5604",
   "metadata": {},
   "outputs": [
    {
     "name": "stdout",
     "output_type": "stream",
     "text": [
      "R²: 0.9109249045692135\n",
      "MAE (train): 24.63\n",
      "MAE (test): 38.272\n"
     ]
    }
   ],
   "source": [
    "run_xgb(Xtrain, Xtest, ytrain, ytest)"
   ]
  },
  {
   "cell_type": "markdown",
   "id": "18a97194",
   "metadata": {},
   "source": [
    "XGBoost is by far our fastest algorithm and shows the best prediction values on the test set."
   ]
  },
  {
   "cell_type": "markdown",
   "id": "56a74ff6",
   "metadata": {},
   "source": [
    "### 4.4 Model Evaluation"
   ]
  },
  {
   "cell_type": "markdown",
   "id": "09eef9d3",
   "metadata": {},
   "source": [
    "See write-up for an evaluation."
   ]
  },
  {
   "cell_type": "markdown",
   "id": "89691c74",
   "metadata": {},
   "source": [
    "### 4.5 Outlook"
   ]
  },
  {
   "cell_type": "markdown",
   "id": "fe217386",
   "metadata": {},
   "source": [
    "See write-up for an outlook."
   ]
  }
 ],
 "metadata": {
  "kernelspec": {
   "display_name": "Python 3",
   "language": "python",
   "name": "python3"
  },
  "language_info": {
   "codemirror_mode": {
    "name": "ipython",
    "version": 3
   },
   "file_extension": ".py",
   "mimetype": "text/x-python",
   "name": "python",
   "nbconvert_exporter": "python",
   "pygments_lexer": "ipython3",
   "version": "3.8.8"
  },
  "vscode": {
   "interpreter": {
    "hash": "293492b16c09546e33597c8e4a7b268ddec92aa7c5bc9ed2dfdbf2307fc10d27"
   }
  }
 },
 "nbformat": 4,
 "nbformat_minor": 5
}
